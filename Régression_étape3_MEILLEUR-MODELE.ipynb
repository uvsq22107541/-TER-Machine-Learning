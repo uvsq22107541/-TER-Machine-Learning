{
 "cells": [
  {
   "cell_type": "code",
   "execution_count": 17,
   "metadata": {},
   "outputs": [],
   "source": [
    "#REGRESSION AVEC REGLAGE DES PARAMETRES"
   ]
  },
  {
   "cell_type": "code",
   "execution_count": 18,
   "metadata": {},
   "outputs": [],
   "source": [
    "#Bibliotèques\n",
    "from sklearn.neural_network import MLPRegressor\n",
    "import matplotlib.pyplot as plt\n",
    "import numpy as np\n",
    "from sklearn import datasets\n",
    "from sklearn.model_selection import train_test_split\n",
    "from sklearn.metrics import mean_squared_error, r2_score\n",
    "from sklearn import preprocessing"
   ]
  },
  {
   "cell_type": "code",
   "execution_count": 19,
   "metadata": {},
   "outputs": [],
   "source": [
    "#Télécharchement du Dataset \"diabetes\"\n",
    "data = datasets.load_diabetes()"
   ]
  },
  {
   "cell_type": "code",
   "execution_count": 20,
   "metadata": {},
   "outputs": [
    {
     "name": "stdout",
     "output_type": "stream",
     "text": [
      "dict_keys(['data', 'target', 'DESCR', 'feature_names', 'data_filename', 'target_filename'])\n"
     ]
    }
   ],
   "source": [
    "#Affichage des clés du Dataset\n",
    "print(data.keys())"
   ]
  },
  {
   "cell_type": "code",
   "execution_count": 21,
   "metadata": {},
   "outputs": [
    {
     "name": "stdout",
     "output_type": "stream",
     "text": [
      "(442,)\n"
     ]
    }
   ],
   "source": [
    "#Affichage du nombre d'observations\n",
    "print(data.target.shape)"
   ]
  },
  {
   "cell_type": "code",
   "execution_count": 22,
   "metadata": {},
   "outputs": [
    {
     "name": "stdout",
     "output_type": "stream",
     "text": [
      "['age', 'sex', 'bmi', 'bp', 's1', 's2', 's3', 's4', 's5', 's6']\n"
     ]
    }
   ],
   "source": [
    "#Affichage des Inputs / Features\n",
    "print(data.feature_names)"
   ]
  },
  {
   "cell_type": "code",
   "execution_count": 23,
   "metadata": {},
   "outputs": [],
   "source": [
    "diabetes_X, diabetes_y = datasets.load_diabetes(return_X_y=True)\n",
    "\n",
    "#Précision d'une feature uniquement (dans notre cas la 1ère i.e 2ème colone : l'age)- pour le plot\n",
    "#diabetes_X = diabetes_X[:, np.newaxis, 2]"
   ]
  },
  {
   "cell_type": "code",
   "execution_count": 24,
   "metadata": {},
   "outputs": [
    {
     "name": "stdout",
     "output_type": "stream",
     "text": [
      "(353, 10)\n",
      "(89, 10)\n"
     ]
    }
   ],
   "source": [
    "#80% TRAINING / 20% TEST\n",
    "X = data.data\n",
    "y = data.target\n",
    "diabetes_X_train, diabetes_X_test, diabetes_y_train, diabetes_y_test = train_test_split(X, y, test_size=0.20, shuffle=True)\n",
    "print(diabetes_X_train.shape); print(diabetes_X_test.shape)"
   ]
  },
  {
   "cell_type": "code",
   "execution_count": 9,
   "metadata": {},
   "outputs": [],
   "source": [
    "#X et y doivent avoir la même taille (il faut bien le préciser pour pour le plot)\n",
    "\n",
    "#Précision que data et targets d'entrainement ait la même taille (80%, 80%)\n",
    "#diabetes_X_train = diabetes_X[:-353]\n",
    "#diabetes_y_train = diabetes_y[:-353]\n",
    "\n",
    "#Précision que data et targets de test ait la même taille (20%, 20%)\n",
    "#diabetes_X_test = diabetes_X[-89:]\n",
    "#diabetes_y_test = diabetes_y[-89:]"
   ]
  },
  {
   "cell_type": "code",
   "execution_count": 10,
   "metadata": {},
   "outputs": [],
   "source": [
    "#Normalisation du Dataset \n",
    "scaler=preprocessing.StandardScaler().fit(diabetes_X_train)\n",
    "diabetes_X_train=scaler.transform(diabetes_X_train)\n",
    "diabetes_X_test=scaler.transform(diabetes_X_test)"
   ]
  },
  {
   "cell_type": "code",
   "execution_count": 11,
   "metadata": {},
   "outputs": [
    {
     "name": "stderr",
     "output_type": "stream",
     "text": [
      "C:\\Users\\HP\\Anaconda3\\lib\\site-packages\\sklearn\\model_selection\\_search.py:813: DeprecationWarning: The default of the `iid` parameter will change from True to False in version 0.22 and will be removed in 0.24. This will change numeric results when test-set sizes are unequal.\n",
      "  DeprecationWarning)\n"
     ]
    },
    {
     "data": {
      "text/plain": [
       "GridSearchCV(cv=10, error_score='raise-deprecating',\n",
       "             estimator=MLPRegressor(activation='relu', alpha=0.0001,\n",
       "                                    batch_size='auto', beta_1=0.9, beta_2=0.999,\n",
       "                                    early_stopping=False, epsilon=1e-08,\n",
       "                                    hidden_layer_sizes=(100,),\n",
       "                                    learning_rate='constant',\n",
       "                                    learning_rate_init=0.001, max_iter=3000,\n",
       "                                    momentum=0.9, n_iter_no_change=10,\n",
       "                                    nesterovs_momentum=True, power_t=0.5,\n",
       "                                    random_st...\n",
       "                         'hidden_layer_sizes': [(100,)],\n",
       "                         'learning_rate': ['constant', 'adaptive',\n",
       "                                           'invscaling'],\n",
       "                         'learning_rate_init': [0.001], 'max_iter': [3000],\n",
       "                         'momentum': [0.9], 'n_iter_no_change': [10],\n",
       "                         'power_t': [0.5], 'solver': ['adam', 'lbfgs', 'sgd'],\n",
       "                         'tol': [0.0001], 'validation_fraction': [0.1],\n",
       "                         'warm_start': ['False']},\n",
       "             pre_dispatch='2*n_jobs', refit=True, return_train_score=False,\n",
       "             scoring=None, verbose=0)"
      ]
     },
     "execution_count": 11,
     "metadata": {},
     "output_type": "execute_result"
    }
   ],
   "source": [
    "#Utilisation de la méthode GridSearchCV qui trouve facilement les hyperparamètres optimaux parmi les valeurs données.\n",
    "from sklearn.model_selection import GridSearchCV\n",
    "\n",
    "mlp_gs = MLPRegressor(max_iter=3000)\n",
    "parameter_space = {\n",
    "    'hidden_layer_sizes': [(100,)],\n",
    "    #'hidden_layer_sizes': [(100,),(200,),(300,),],\n",
    "    'activation': ['relu', 'identity', 'logistic', 'tanh'],\n",
    "    'solver': ['adam', 'lbfgs', 'sgd'],\n",
    "    'alpha': [0.0001],\n",
    "    'batch_size': ['auto'], \n",
    "    'learning_rate': ['constant','adaptive', 'invscaling'],\n",
    "    'learning_rate_init': [0.001],\n",
    "    'power_t': [0.5],\n",
    "    'max_iter': [3000], \n",
    "    'tol': [0.0001], \n",
    "    'warm_start': ['False'], \n",
    "    'momentum': [0.9], \n",
    "    'validation_fraction': [0.1], \n",
    "    'beta_1': [0.9], \n",
    "    'beta_2': [0.999], \n",
    "    'epsilon': [1e-08], \n",
    "    'n_iter_no_change': [10], \n",
    "\n",
    "}\n",
    "#n_jobs=-1 , -1 sert à utiliser tous les cœurs de processeur disponibles.\n",
    "#cv = 10 est pour la validation croisée, ici cela signifie 10 fois la validation croisée stratifiée (K-fold)\n",
    "clf = GridSearchCV(mlp_gs, parameter_space, n_jobs=-1, cv=10)\n",
    "\n",
    "#Apprentissage / Entrainement de modèle\n",
    "clf.fit(X, y)"
   ]
  },
  {
   "cell_type": "code",
   "execution_count": 25,
   "metadata": {},
   "outputs": [
    {
     "name": "stdout",
     "output_type": "stream",
     "text": [
      "Le nombre de combinaisons (modèles) possible est : 36 \n",
      " \n",
      " \n",
      "|  Mean  |   Std   |  Combinaison / Modèle \n",
      "-------------------------------------------------------------------------------------------------------------------\n",
      "0.461    | 0.136   | {'activation': 'relu', 'alpha': 0.0001, 'batch_size': 'auto', 'beta_1': 0.9, 'beta_2': 0.999, 'epsilon': 1e-08, 'hidden_layer_sizes': (100,), 'learning_rate': 'constant', 'learning_rate_init': 0.001, 'max_iter': 3000, 'momentum': 0.9, 'n_iter_no_change': 10, 'power_t': 0.5, 'solver': 'adam', 'tol': 0.0001, 'validation_fraction': 0.1, 'warm_start': 'False'}\n",
      "0.399    | 0.180   | {'activation': 'relu', 'alpha': 0.0001, 'batch_size': 'auto', 'beta_1': 0.9, 'beta_2': 0.999, 'epsilon': 1e-08, 'hidden_layer_sizes': (100,), 'learning_rate': 'constant', 'learning_rate_init': 0.001, 'max_iter': 3000, 'momentum': 0.9, 'n_iter_no_change': 10, 'power_t': 0.5, 'solver': 'lbfgs', 'tol': 0.0001, 'validation_fraction': 0.1, 'warm_start': 'False'}\n",
      "0.460    | 0.146   | {'activation': 'relu', 'alpha': 0.0001, 'batch_size': 'auto', 'beta_1': 0.9, 'beta_2': 0.999, 'epsilon': 1e-08, 'hidden_layer_sizes': (100,), 'learning_rate': 'constant', 'learning_rate_init': 0.001, 'max_iter': 3000, 'momentum': 0.9, 'n_iter_no_change': 10, 'power_t': 0.5, 'solver': 'sgd', 'tol': 0.0001, 'validation_fraction': 0.1, 'warm_start': 'False'}\n",
      "0.460    | 0.135   | {'activation': 'relu', 'alpha': 0.0001, 'batch_size': 'auto', 'beta_1': 0.9, 'beta_2': 0.999, 'epsilon': 1e-08, 'hidden_layer_sizes': (100,), 'learning_rate': 'adaptive', 'learning_rate_init': 0.001, 'max_iter': 3000, 'momentum': 0.9, 'n_iter_no_change': 10, 'power_t': 0.5, 'solver': 'adam', 'tol': 0.0001, 'validation_fraction': 0.1, 'warm_start': 'False'}\n",
      "0.362    | 0.165   | {'activation': 'relu', 'alpha': 0.0001, 'batch_size': 'auto', 'beta_1': 0.9, 'beta_2': 0.999, 'epsilon': 1e-08, 'hidden_layer_sizes': (100,), 'learning_rate': 'adaptive', 'learning_rate_init': 0.001, 'max_iter': 3000, 'momentum': 0.9, 'n_iter_no_change': 10, 'power_t': 0.5, 'solver': 'lbfgs', 'tol': 0.0001, 'validation_fraction': 0.1, 'warm_start': 'False'}\n",
      "0.466    | 0.138   | {'activation': 'relu', 'alpha': 0.0001, 'batch_size': 'auto', 'beta_1': 0.9, 'beta_2': 0.999, 'epsilon': 1e-08, 'hidden_layer_sizes': (100,), 'learning_rate': 'adaptive', 'learning_rate_init': 0.001, 'max_iter': 3000, 'momentum': 0.9, 'n_iter_no_change': 10, 'power_t': 0.5, 'solver': 'sgd', 'tol': 0.0001, 'validation_fraction': 0.1, 'warm_start': 'False'}\n",
      "0.461    | 0.136   | {'activation': 'relu', 'alpha': 0.0001, 'batch_size': 'auto', 'beta_1': 0.9, 'beta_2': 0.999, 'epsilon': 1e-08, 'hidden_layer_sizes': (100,), 'learning_rate': 'invscaling', 'learning_rate_init': 0.001, 'max_iter': 3000, 'momentum': 0.9, 'n_iter_no_change': 10, 'power_t': 0.5, 'solver': 'adam', 'tol': 0.0001, 'validation_fraction': 0.1, 'warm_start': 'False'}\n",
      "0.388    | 0.153   | {'activation': 'relu', 'alpha': 0.0001, 'batch_size': 'auto', 'beta_1': 0.9, 'beta_2': 0.999, 'epsilon': 1e-08, 'hidden_layer_sizes': (100,), 'learning_rate': 'invscaling', 'learning_rate_init': 0.001, 'max_iter': 3000, 'momentum': 0.9, 'n_iter_no_change': 10, 'power_t': 0.5, 'solver': 'lbfgs', 'tol': 0.0001, 'validation_fraction': 0.1, 'warm_start': 'False'}\n",
      "0.055    | 0.077   | {'activation': 'relu', 'alpha': 0.0001, 'batch_size': 'auto', 'beta_1': 0.9, 'beta_2': 0.999, 'epsilon': 1e-08, 'hidden_layer_sizes': (100,), 'learning_rate': 'invscaling', 'learning_rate_init': 0.001, 'max_iter': 3000, 'momentum': 0.9, 'n_iter_no_change': 10, 'power_t': 0.5, 'solver': 'sgd', 'tol': 0.0001, 'validation_fraction': 0.1, 'warm_start': 'False'}\n",
      "0.461    | 0.139   | {'activation': 'identity', 'alpha': 0.0001, 'batch_size': 'auto', 'beta_1': 0.9, 'beta_2': 0.999, 'epsilon': 1e-08, 'hidden_layer_sizes': (100,), 'learning_rate': 'constant', 'learning_rate_init': 0.001, 'max_iter': 3000, 'momentum': 0.9, 'n_iter_no_change': 10, 'power_t': 0.5, 'solver': 'adam', 'tol': 0.0001, 'validation_fraction': 0.1, 'warm_start': 'False'}\n",
      "0.462    | 0.147   | {'activation': 'identity', 'alpha': 0.0001, 'batch_size': 'auto', 'beta_1': 0.9, 'beta_2': 0.999, 'epsilon': 1e-08, 'hidden_layer_sizes': (100,), 'learning_rate': 'constant', 'learning_rate_init': 0.001, 'max_iter': 3000, 'momentum': 0.9, 'n_iter_no_change': 10, 'power_t': 0.5, 'solver': 'lbfgs', 'tol': 0.0001, 'validation_fraction': 0.1, 'warm_start': 'False'}\n",
      "0.460    | 0.139   | {'activation': 'identity', 'alpha': 0.0001, 'batch_size': 'auto', 'beta_1': 0.9, 'beta_2': 0.999, 'epsilon': 1e-08, 'hidden_layer_sizes': (100,), 'learning_rate': 'constant', 'learning_rate_init': 0.001, 'max_iter': 3000, 'momentum': 0.9, 'n_iter_no_change': 10, 'power_t': 0.5, 'solver': 'sgd', 'tol': 0.0001, 'validation_fraction': 0.1, 'warm_start': 'False'}\n",
      "0.461    | 0.139   | {'activation': 'identity', 'alpha': 0.0001, 'batch_size': 'auto', 'beta_1': 0.9, 'beta_2': 0.999, 'epsilon': 1e-08, 'hidden_layer_sizes': (100,), 'learning_rate': 'adaptive', 'learning_rate_init': 0.001, 'max_iter': 3000, 'momentum': 0.9, 'n_iter_no_change': 10, 'power_t': 0.5, 'solver': 'adam', 'tol': 0.0001, 'validation_fraction': 0.1, 'warm_start': 'False'}\n",
      "0.462    | 0.147   | {'activation': 'identity', 'alpha': 0.0001, 'batch_size': 'auto', 'beta_1': 0.9, 'beta_2': 0.999, 'epsilon': 1e-08, 'hidden_layer_sizes': (100,), 'learning_rate': 'adaptive', 'learning_rate_init': 0.001, 'max_iter': 3000, 'momentum': 0.9, 'n_iter_no_change': 10, 'power_t': 0.5, 'solver': 'lbfgs', 'tol': 0.0001, 'validation_fraction': 0.1, 'warm_start': 'False'}\n",
      "0.462    | 0.139   | {'activation': 'identity', 'alpha': 0.0001, 'batch_size': 'auto', 'beta_1': 0.9, 'beta_2': 0.999, 'epsilon': 1e-08, 'hidden_layer_sizes': (100,), 'learning_rate': 'adaptive', 'learning_rate_init': 0.001, 'max_iter': 3000, 'momentum': 0.9, 'n_iter_no_change': 10, 'power_t': 0.5, 'solver': 'sgd', 'tol': 0.0001, 'validation_fraction': 0.1, 'warm_start': 'False'}\n",
      "0.461    | 0.139   | {'activation': 'identity', 'alpha': 0.0001, 'batch_size': 'auto', 'beta_1': 0.9, 'beta_2': 0.999, 'epsilon': 1e-08, 'hidden_layer_sizes': (100,), 'learning_rate': 'invscaling', 'learning_rate_init': 0.001, 'max_iter': 3000, 'momentum': 0.9, 'n_iter_no_change': 10, 'power_t': 0.5, 'solver': 'adam', 'tol': 0.0001, 'validation_fraction': 0.1, 'warm_start': 'False'}\n",
      "0.462    | 0.147   | {'activation': 'identity', 'alpha': 0.0001, 'batch_size': 'auto', 'beta_1': 0.9, 'beta_2': 0.999, 'epsilon': 1e-08, 'hidden_layer_sizes': (100,), 'learning_rate': 'invscaling', 'learning_rate_init': 0.001, 'max_iter': 3000, 'momentum': 0.9, 'n_iter_no_change': 10, 'power_t': 0.5, 'solver': 'lbfgs', 'tol': 0.0001, 'validation_fraction': 0.1, 'warm_start': 'False'}\n",
      "0.059    | 0.078   | {'activation': 'identity', 'alpha': 0.0001, 'batch_size': 'auto', 'beta_1': 0.9, 'beta_2': 0.999, 'epsilon': 1e-08, 'hidden_layer_sizes': (100,), 'learning_rate': 'invscaling', 'learning_rate_init': 0.001, 'max_iter': 3000, 'momentum': 0.9, 'n_iter_no_change': 10, 'power_t': 0.5, 'solver': 'sgd', 'tol': 0.0001, 'validation_fraction': 0.1, 'warm_start': 'False'}\n",
      "0.434    | 0.123   | {'activation': 'logistic', 'alpha': 0.0001, 'batch_size': 'auto', 'beta_1': 0.9, 'beta_2': 0.999, 'epsilon': 1e-08, 'hidden_layer_sizes': (100,), 'learning_rate': 'constant', 'learning_rate_init': 0.001, 'max_iter': 3000, 'momentum': 0.9, 'n_iter_no_change': 10, 'power_t': 0.5, 'solver': 'adam', 'tol': 0.0001, 'validation_fraction': 0.1, 'warm_start': 'False'}\n",
      "-1.457    | 0.834   | {'activation': 'logistic', 'alpha': 0.0001, 'batch_size': 'auto', 'beta_1': 0.9, 'beta_2': 0.999, 'epsilon': 1e-08, 'hidden_layer_sizes': (100,), 'learning_rate': 'constant', 'learning_rate_init': 0.001, 'max_iter': 3000, 'momentum': 0.9, 'n_iter_no_change': 10, 'power_t': 0.5, 'solver': 'lbfgs', 'tol': 0.0001, 'validation_fraction': 0.1, 'warm_start': 'False'}\n",
      "0.462    | 0.142   | {'activation': 'logistic', 'alpha': 0.0001, 'batch_size': 'auto', 'beta_1': 0.9, 'beta_2': 0.999, 'epsilon': 1e-08, 'hidden_layer_sizes': (100,), 'learning_rate': 'constant', 'learning_rate_init': 0.001, 'max_iter': 3000, 'momentum': 0.9, 'n_iter_no_change': 10, 'power_t': 0.5, 'solver': 'sgd', 'tol': 0.0001, 'validation_fraction': 0.1, 'warm_start': 'False'}\n",
      "0.434    | 0.123   | {'activation': 'logistic', 'alpha': 0.0001, 'batch_size': 'auto', 'beta_1': 0.9, 'beta_2': 0.999, 'epsilon': 1e-08, 'hidden_layer_sizes': (100,), 'learning_rate': 'adaptive', 'learning_rate_init': 0.001, 'max_iter': 3000, 'momentum': 0.9, 'n_iter_no_change': 10, 'power_t': 0.5, 'solver': 'adam', 'tol': 0.0001, 'validation_fraction': 0.1, 'warm_start': 'False'}\n",
      "-1.128    | 0.490   | {'activation': 'logistic', 'alpha': 0.0001, 'batch_size': 'auto', 'beta_1': 0.9, 'beta_2': 0.999, 'epsilon': 1e-08, 'hidden_layer_sizes': (100,), 'learning_rate': 'adaptive', 'learning_rate_init': 0.001, 'max_iter': 3000, 'momentum': 0.9, 'n_iter_no_change': 10, 'power_t': 0.5, 'solver': 'lbfgs', 'tol': 0.0001, 'validation_fraction': 0.1, 'warm_start': 'False'}\n",
      "0.463    | 0.140   | {'activation': 'logistic', 'alpha': 0.0001, 'batch_size': 'auto', 'beta_1': 0.9, 'beta_2': 0.999, 'epsilon': 1e-08, 'hidden_layer_sizes': (100,), 'learning_rate': 'adaptive', 'learning_rate_init': 0.001, 'max_iter': 3000, 'momentum': 0.9, 'n_iter_no_change': 10, 'power_t': 0.5, 'solver': 'sgd', 'tol': 0.0001, 'validation_fraction': 0.1, 'warm_start': 'False'}\n",
      "0.435    | 0.123   | {'activation': 'logistic', 'alpha': 0.0001, 'batch_size': 'auto', 'beta_1': 0.9, 'beta_2': 0.999, 'epsilon': 1e-08, 'hidden_layer_sizes': (100,), 'learning_rate': 'invscaling', 'learning_rate_init': 0.001, 'max_iter': 3000, 'momentum': 0.9, 'n_iter_no_change': 10, 'power_t': 0.5, 'solver': 'adam', 'tol': 0.0001, 'validation_fraction': 0.1, 'warm_start': 'False'}\n",
      "-1.009    | 0.793   | {'activation': 'logistic', 'alpha': 0.0001, 'batch_size': 'auto', 'beta_1': 0.9, 'beta_2': 0.999, 'epsilon': 1e-08, 'hidden_layer_sizes': (100,), 'learning_rate': 'invscaling', 'learning_rate_init': 0.001, 'max_iter': 3000, 'momentum': 0.9, 'n_iter_no_change': 10, 'power_t': 0.5, 'solver': 'lbfgs', 'tol': 0.0001, 'validation_fraction': 0.1, 'warm_start': 'False'}\n",
      "-0.021    | 0.076   | {'activation': 'logistic', 'alpha': 0.0001, 'batch_size': 'auto', 'beta_1': 0.9, 'beta_2': 0.999, 'epsilon': 1e-08, 'hidden_layer_sizes': (100,), 'learning_rate': 'invscaling', 'learning_rate_init': 0.001, 'max_iter': 3000, 'momentum': 0.9, 'n_iter_no_change': 10, 'power_t': 0.5, 'solver': 'sgd', 'tol': 0.0001, 'validation_fraction': 0.1, 'warm_start': 'False'}\n",
      "0.454    | 0.128   | {'activation': 'tanh', 'alpha': 0.0001, 'batch_size': 'auto', 'beta_1': 0.9, 'beta_2': 0.999, 'epsilon': 1e-08, 'hidden_layer_sizes': (100,), 'learning_rate': 'constant', 'learning_rate_init': 0.001, 'max_iter': 3000, 'momentum': 0.9, 'n_iter_no_change': 10, 'power_t': 0.5, 'solver': 'adam', 'tol': 0.0001, 'validation_fraction': 0.1, 'warm_start': 'False'}\n",
      "0.097    | 0.300   | {'activation': 'tanh', 'alpha': 0.0001, 'batch_size': 'auto', 'beta_1': 0.9, 'beta_2': 0.999, 'epsilon': 1e-08, 'hidden_layer_sizes': (100,), 'learning_rate': 'constant', 'learning_rate_init': 0.001, 'max_iter': 3000, 'momentum': 0.9, 'n_iter_no_change': 10, 'power_t': 0.5, 'solver': 'lbfgs', 'tol': 0.0001, 'validation_fraction': 0.1, 'warm_start': 'False'}\n",
      "0.266    | 0.318   | {'activation': 'tanh', 'alpha': 0.0001, 'batch_size': 'auto', 'beta_1': 0.9, 'beta_2': 0.999, 'epsilon': 1e-08, 'hidden_layer_sizes': (100,), 'learning_rate': 'constant', 'learning_rate_init': 0.001, 'max_iter': 3000, 'momentum': 0.9, 'n_iter_no_change': 10, 'power_t': 0.5, 'solver': 'sgd', 'tol': 0.0001, 'validation_fraction': 0.1, 'warm_start': 'False'}\n",
      "0.455    | 0.125   | {'activation': 'tanh', 'alpha': 0.0001, 'batch_size': 'auto', 'beta_1': 0.9, 'beta_2': 0.999, 'epsilon': 1e-08, 'hidden_layer_sizes': (100,), 'learning_rate': 'adaptive', 'learning_rate_init': 0.001, 'max_iter': 3000, 'momentum': 0.9, 'n_iter_no_change': 10, 'power_t': 0.5, 'solver': 'adam', 'tol': 0.0001, 'validation_fraction': 0.1, 'warm_start': 'False'}\n",
      "0.067    | 0.318   | {'activation': 'tanh', 'alpha': 0.0001, 'batch_size': 'auto', 'beta_1': 0.9, 'beta_2': 0.999, 'epsilon': 1e-08, 'hidden_layer_sizes': (100,), 'learning_rate': 'adaptive', 'learning_rate_init': 0.001, 'max_iter': 3000, 'momentum': 0.9, 'n_iter_no_change': 10, 'power_t': 0.5, 'solver': 'lbfgs', 'tol': 0.0001, 'validation_fraction': 0.1, 'warm_start': 'False'}\n",
      "0.472    | 0.139   | {'activation': 'tanh', 'alpha': 0.0001, 'batch_size': 'auto', 'beta_1': 0.9, 'beta_2': 0.999, 'epsilon': 1e-08, 'hidden_layer_sizes': (100,), 'learning_rate': 'adaptive', 'learning_rate_init': 0.001, 'max_iter': 3000, 'momentum': 0.9, 'n_iter_no_change': 10, 'power_t': 0.5, 'solver': 'sgd', 'tol': 0.0001, 'validation_fraction': 0.1, 'warm_start': 'False'}\n",
      "0.455    | 0.127   | {'activation': 'tanh', 'alpha': 0.0001, 'batch_size': 'auto', 'beta_1': 0.9, 'beta_2': 0.999, 'epsilon': 1e-08, 'hidden_layer_sizes': (100,), 'learning_rate': 'invscaling', 'learning_rate_init': 0.001, 'max_iter': 3000, 'momentum': 0.9, 'n_iter_no_change': 10, 'power_t': 0.5, 'solver': 'adam', 'tol': 0.0001, 'validation_fraction': 0.1, 'warm_start': 'False'}\n",
      "-0.104    | 0.666   | {'activation': 'tanh', 'alpha': 0.0001, 'batch_size': 'auto', 'beta_1': 0.9, 'beta_2': 0.999, 'epsilon': 1e-08, 'hidden_layer_sizes': (100,), 'learning_rate': 'invscaling', 'learning_rate_init': 0.001, 'max_iter': 3000, 'momentum': 0.9, 'n_iter_no_change': 10, 'power_t': 0.5, 'solver': 'lbfgs', 'tol': 0.0001, 'validation_fraction': 0.1, 'warm_start': 'False'}\n",
      "-0.027    | 0.075   | {'activation': 'tanh', 'alpha': 0.0001, 'batch_size': 'auto', 'beta_1': 0.9, 'beta_2': 0.999, 'epsilon': 1e-08, 'hidden_layer_sizes': (100,), 'learning_rate': 'invscaling', 'learning_rate_init': 0.001, 'max_iter': 3000, 'momentum': 0.9, 'n_iter_no_change': 10, 'power_t': 0.5, 'solver': 'sgd', 'tol': 0.0001, 'validation_fraction': 0.1, 'warm_start': 'False'}\n"
     ]
    }
   ],
   "source": [
    "#Affichage des scores pour toutes les combinaisons (modèles) possibles \n",
    "means = clf.cv_results_['mean_test_score']\n",
    "stds = clf.cv_results_['std_test_score']\n",
    "\n",
    "i=0\n",
    "for mean, std, params in zip(means, stds, clf.cv_results_['params']):\n",
    "    i=i+1    \n",
    "print(\"Le nombre de combinaisons (modèles) possible est : %r \" % (i)) \n",
    "print(\" \\n \")\n",
    "print(\"|  Mean  |   Std   |  Combinaison / Modèle \")\n",
    "print(\"-------------------------------------------------------------------------------------------------------------------\")\n",
    "\n",
    "for mean, std, params in zip(means, stds, clf.cv_results_['params']):\n",
    "    print(\"%0.3f    | %0.03f   | %r\" % (mean, std, params))"
   ]
  },
  {
   "cell_type": "code",
   "execution_count": 26,
   "metadata": {},
   "outputs": [
    {
     "name": "stdout",
     "output_type": "stream",
     "text": [
      "Meilleurs paramètres trouvés : \n",
      " {'activation': 'tanh', 'alpha': 0.0001, 'batch_size': 'auto', 'beta_1': 0.9, 'beta_2': 0.999, 'epsilon': 1e-08, 'hidden_layer_sizes': (100,), 'learning_rate': 'adaptive', 'learning_rate_init': 0.001, 'max_iter': 3000, 'momentum': 0.9, 'n_iter_no_change': 10, 'power_t': 0.5, 'solver': 'sgd', 'tol': 0.0001, 'validation_fraction': 0.1, 'warm_start': 'False'}\n"
     ]
    }
   ],
   "source": [
    "#Affichage du meilleur modèle (hyperparamètres optimaux parmi les valeurs données).\n",
    "print('Meilleurs paramètres trouvés : \\n', clf.best_params_)"
   ]
  },
  {
   "cell_type": "code",
   "execution_count": 27,
   "metadata": {},
   "outputs": [
    {
     "name": "stdout",
     "output_type": "stream",
     "text": [
      " RSS = 212575.54\n",
      " RSE = 0.39\n",
      " R2 (Coefficient de determination) = 0.61\n"
     ]
    }
   ],
   "source": [
    "#Test du meilleur modèle sur l'ensemble de test.\n",
    "diabetes_y_test, diabetes_y_pred = diabetes_y_test , clf.predict(diabetes_X_test)\n",
    "\n",
    "\n",
    "#Métriques\n",
    "#print(\"RSS : %.2f\" % mean_squared_error(diabetes_y_test, diabetes_y_pred))\n",
    "RSS=mean_squared_error(diabetes_y_test, diabetes_y_pred)*89\n",
    "print(\" RSS = %.2f\" % RSS)\n",
    "print(\" RSE = %.2f\" % (1-r2_score(diabetes_y_test, diabetes_y_pred)))\n",
    "print(\" R2 (Coefficient de determination) = %.2f\" % r2_score(diabetes_y_test, diabetes_y_pred))"
   ]
  },
  {
   "cell_type": "code",
   "execution_count": null,
   "metadata": {},
   "outputs": [],
   "source": []
  }
 ],
 "metadata": {
  "kernelspec": {
   "display_name": "Python 3",
   "language": "python",
   "name": "python3"
  },
  "language_info": {
   "codemirror_mode": {
    "name": "ipython",
    "version": 3
   },
   "file_extension": ".py",
   "mimetype": "text/x-python",
   "name": "python",
   "nbconvert_exporter": "python",
   "pygments_lexer": "ipython3",
   "version": "3.7.4"
  }
 },
 "nbformat": 4,
 "nbformat_minor": 2
}
