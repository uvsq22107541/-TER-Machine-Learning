{
 "cells": [
  {
   "cell_type": "markdown",
   "metadata": {},
   "source": [
    "#                                    APRENTISSAGE SEMI-SUPERVISE \n",
    "###                                               (DATASET DE CLASSIFICATION : FETAL_HEALTH DE KAGGLE)"
   ]
  },
  {
   "cell_type": "markdown",
   "metadata": {},
   "source": [
    "### LAB (10%), non-LAB (80%), TEST (10%)"
   ]
  },
  {
   "cell_type": "code",
   "execution_count": 197,
   "metadata": {},
   "outputs": [
    {
     "name": "stdout",
     "output_type": "stream",
     "text": [
      "_________________________________________________\n",
      "LAB (10%), non-LAB (80%), TEST (10%)  : \n",
      "                                                 \n",
      "-LAB : (382, 21)\n",
      "-non_LAB: (1531, 21)\n",
      "-TEST : (213, 21)\n",
      "_________________________________________________\n",
      "Score de prédiction :  0.88\n"
     ]
    },
    {
     "name": "stderr",
     "output_type": "stream",
     "text": [
      "C:\\Users\\HP\\Anaconda3\\lib\\site-packages\\sklearn\\neural_network\\multilayer_perceptron.py:566: ConvergenceWarning: Stochastic Optimizer: Maximum iterations (200) reached and the optimization hasn't converged yet.\n",
      "  % self.max_iter, ConvergenceWarning)\n"
     ]
    }
   ],
   "source": [
    "#Bibliothèques\n",
    "from sklearn.neural_network import MLPClassifier\n",
    "from sklearn.model_selection import train_test_split\n",
    "from sklearn import datasets\n",
    "import pandas as pd\n",
    "#from sklearn.metrics import zero_one_loss, accuracy_score,precision_score, recall_score, f1_score\n",
    "from sklearn import preprocessing\n",
    "import numpy as np\n",
    "from sklearn.impute import SimpleImputer\n",
    "\n",
    "# 1 - Téléchargement et traitement du dataset fetal_health \n",
    "data = pd.read_csv('fetal_health.csv')\n",
    "data.shape\n",
    "imp = SimpleImputer(missing_values=np.nan, strategy='mean')\n",
    "imp.fit(data)\n",
    "data=imp.transform(data) \n",
    "NB_FEATURES=21\n",
    "X=data[:,0:NB_FEATURES]         # Features: inputs (21 premières colonnes)\n",
    "y=data[:,NB_FEATURES:].ravel()  # Target : output/ (Dernière colonne)\n",
    "\n",
    "\n",
    "# 2 - Préparation du dataset semi-supervisé\n",
    "# Découpage Train/Test\n",
    "X_train, X_test, y_train, y_test = train_test_split(X, y, test_size=0.10, random_state=1, stratify=y)\n",
    "# Découpage LAB/non-LAB \n",
    "X_train_lab, X_train_unlab, y_train_lab, y_train_unlab = train_test_split(X_train, y_train, test_size=0.80, random_state=1, stratify=y_train)\n",
    "#Ensemble de trainig 90% (10% LAB/ 80% non-LAB)\n",
    "print(\"_________________________________________________\")\n",
    "print(\"LAB (10%), non-LAB (80%), TEST (10%)  : \")\n",
    "print(\"                                                 \")\n",
    "print('-LAB :', X_train_lab.shape)\n",
    "print('-non_LAB:', X_train_unlab.shape)\n",
    "#Ensemble de test 10%\n",
    "print('-TEST :', X_test.shape)\n",
    "\n",
    "\n",
    "# 3 - Normalisation\n",
    "#scaler=preprocessing.StandardScaler().fit(X_train)\n",
    "#X_train=scaler.transform(X_train)\n",
    "#X_test=scaler.transform(X_test)\n",
    "\n",
    "# Définition d'un modele MLP (avec paramètres par défaut car il a donné déja de bons résultats)\n",
    "mlp = MLPClassifier(hidden_layer_sizes=(100,), activation='relu',  solver='adam',\n",
    "                   alpha=0.0001, batch_size='auto', learning_rate='constant', learning_rate_init=0.001,\n",
    "                   power_t=0.5, max_iter=200, shuffle=True, random_state=None, tol=0.0001, verbose=False,\n",
    "                   warm_start=False, momentum=0.9, nesterovs_momentum=True, early_stopping=False,\n",
    "                   validation_fraction=0.1, beta_1=0.9, beta_2=0.999, epsilon=1e-08, n_iter_no_change=10, \n",
    "                   )\n",
    "\n",
    "\n",
    "# Entrainement du modele sur le dataset labelisé\n",
    "mlp.fit(X_train_lab, y_train_lab)\n",
    "\n",
    "\n",
    "#Self Trainig\n",
    "mlp.predict_proba(X_test[:])\n",
    "mlp.predict(X_test[:, :])\n",
    "\n",
    "#Métrique \n",
    "print(\"_________________________________________________\")\n",
    "print(\"Score de prédiction : \",mlp.score(X_test, y_test))"
   ]
  },
  {
   "cell_type": "markdown",
   "metadata": {},
   "source": [
    "### LAB (20%), non-LAB (70%), TEST (10%)"
   ]
  },
  {
   "cell_type": "code",
   "execution_count": 141,
   "metadata": {},
   "outputs": [
    {
     "name": "stdout",
     "output_type": "stream",
     "text": [
      "_________________________________________________\n",
      "LAB (20%), non-LAB (70%), TEST (10%)  : \n",
      "                                                 \n",
      "-LAB : (573, 21)\n",
      "-non_LAB: (1340, 21)\n",
      "-TEST : (213, 21)\n",
      "_________________________________________________\n",
      "Score de prédiction :  0.863849765258216\n"
     ]
    }
   ],
   "source": [
    "#Bibliothèques\n",
    "from sklearn.neural_network import MLPClassifier\n",
    "from sklearn.model_selection import train_test_split\n",
    "from sklearn import datasets\n",
    "import pandas as pd\n",
    "#from sklearn.metrics import zero_one_loss, accuracy_score,precision_score, recall_score, f1_score\n",
    "from sklearn import preprocessing\n",
    "import numpy as np\n",
    "from sklearn.impute import SimpleImputer\n",
    "\n",
    "# 1 - Téléchargement et traitement du dataset fetal_health \n",
    "data = pd.read_csv('fetal_health.csv')\n",
    "data.shape\n",
    "imp = SimpleImputer(missing_values=np.nan, strategy='mean')\n",
    "imp.fit(data)\n",
    "data=imp.transform(data) \n",
    "NB_FEATURES=21\n",
    "X=data[:,0:NB_FEATURES]         # Features: inputs (21 premières colonnes)\n",
    "y=data[:,NB_FEATURES:].ravel()  # Target : output/ (Dernière colonne)\n",
    "\n",
    "# 2 - Préparation du dataset semi-supervisé\n",
    "# Découpage Train/Test\n",
    "X_train, X_test, y_train, y_test = train_test_split(X, y, test_size=0.10, random_state=1, stratify=y)\n",
    "# Découpage LAB/non-LAB \n",
    "X_train_lab, X_train_unlab, y_train_lab, y_train_unlab = train_test_split(X_train, y_train, test_size=0.7, random_state=1, stratify=y_train)\n",
    "#Ensemble de trainig 90% (20% LAB/ 70% non-LAB)\n",
    "print(\"_________________________________________________\")\n",
    "print(\"LAB (20%), non-LAB (70%), TEST (10%)  : \")\n",
    "print(\"                                                 \")\n",
    "print('-LAB :', X_train_lab.shape)\n",
    "print('-non_LAB:', X_train_unlab.shape)\n",
    "#Ensemble de test 10%\n",
    "print('-TEST :', X_test.shape)\n",
    "\n",
    "\n",
    "# 3 - Normalisation\n",
    "#scaler=preprocessing.StandardScaler().fit(X_train)\n",
    "#X_train=scaler.transform(X_train)\n",
    "#X_test=scaler.transform(X_test)\n",
    "\n",
    "# Définition d'un modele MLP (avec paramètres par défaut car il a donné déja de bons résultats)\n",
    "mlp = MLPClassifier(hidden_layer_sizes=(100,), activation='relu',  solver='adam',\n",
    "                   alpha=0.0001, batch_size='auto', learning_rate='constant', learning_rate_init=0.001,\n",
    "                   power_t=0.5, max_iter=200, shuffle=True, random_state=None, tol=0.0001, verbose=False,\n",
    "                   warm_start=False, momentum=0.9, nesterovs_momentum=True, early_stopping=False,\n",
    "                   validation_fraction=0.1, beta_1=0.9, beta_2=0.999, epsilon=1e-08, n_iter_no_change=10, \n",
    "                   )\n",
    "\n",
    "\n",
    "# Entrainement du modele sur le dataset labelisé\n",
    "mlp.fit(X_train_lab, y_train_lab)\n",
    "\n",
    "\n",
    "#Self Trainig\n",
    "mlp.predict_proba(X_test[:])\n",
    "mlp.predict(X_test[:, :])\n",
    "\n",
    "#Métrique \n",
    "print(\"_________________________________________________\")\n",
    "print(\"Score de prédiction : \",mlp.score(X_test, y_test))"
   ]
  },
  {
   "cell_type": "markdown",
   "metadata": {},
   "source": [
    "### LAB (30%), non-LAB (60%), TEST (10%)"
   ]
  },
  {
   "cell_type": "code",
   "execution_count": 145,
   "metadata": {},
   "outputs": [
    {
     "name": "stdout",
     "output_type": "stream",
     "text": [
      "_________________________________________________\n",
      "LAB (30%), non-LAB (60%), TEST (10%)  : \n",
      "                                                 \n",
      "-LAB : (765, 21)\n",
      "-non_LAB: (1148, 21)\n",
      "-TEST : (213, 21)\n",
      "_________________________________________________\n",
      "Score de prédiction :  0.863849765258216\n"
     ]
    }
   ],
   "source": [
    "#Bibliothèques\n",
    "from sklearn.neural_network import MLPClassifier\n",
    "from sklearn.model_selection import train_test_split\n",
    "from sklearn import datasets\n",
    "import pandas as pd\n",
    "#from sklearn.metrics import zero_one_loss, accuracy_score,precision_score, recall_score, f1_score\n",
    "from sklearn import preprocessing\n",
    "import numpy as np\n",
    "from sklearn.impute import SimpleImputer\n",
    "\n",
    "# 1 - Téléchargement et traitement du dataset fetal_health \n",
    "data = pd.read_csv('fetal_health.csv')\n",
    "data.shape\n",
    "imp = SimpleImputer(missing_values=np.nan, strategy='mean')\n",
    "imp.fit(data)\n",
    "data=imp.transform(data) \n",
    "NB_FEATURES=21\n",
    "X=data[:,0:NB_FEATURES]         # Features: inputs (21 premières colonnes)\n",
    "y=data[:,NB_FEATURES:].ravel()  # Target : output/ (Dernière colonne)\n",
    "\n",
    "# 2 - Préparation du dataset semi-supervisé\n",
    "# Découpage Train/Test\n",
    "X_train, X_test, y_train, y_test = train_test_split(X, y, test_size=0.10, random_state=1, stratify=y)\n",
    "# Découpage LAB/non-LAB \n",
    "X_train_lab, X_train_unlab, y_train_lab, y_train_unlab = train_test_split(X_train, y_train, test_size=0.60, random_state=1, stratify=y_train)\n",
    "#Ensemble de trainig 90% (30% LAB/ 60% non-LAB)\n",
    "print(\"_________________________________________________\")\n",
    "print(\"LAB (30%), non-LAB (60%), TEST (10%)  : \")\n",
    "print(\"                                                 \")\n",
    "print('-LAB :', X_train_lab.shape)\n",
    "print('-non_LAB:', X_train_unlab.shape)\n",
    "#Ensemble de test 10%\n",
    "print('-TEST :', X_test.shape)\n",
    "\n",
    "\n",
    "# 3 - Normalisation\n",
    "#scaler=preprocessing.StandardScaler().fit(X_train)\n",
    "#X_train=scaler.transform(X_train)\n",
    "#X_test=scaler.transform(X_test)\n",
    "\n",
    "# Définition d'un modele MLP (avec paramètres par défaut car il a donné déja de bons résultats)\n",
    "mlp = MLPClassifier(hidden_layer_sizes=(100,), activation='relu',  solver='adam',\n",
    "                   alpha=0.0001, batch_size='auto', learning_rate='constant', learning_rate_init=0.001,\n",
    "                   power_t=0.5, max_iter=200, shuffle=True, random_state=None, tol=0.0001, verbose=False,\n",
    "                   warm_start=False, momentum=0.9, nesterovs_momentum=True, early_stopping=False,\n",
    "                   validation_fraction=0.1, beta_1=0.9, beta_2=0.999, epsilon=1e-08, n_iter_no_change=10, \n",
    "                   )\n",
    "\n",
    "\n",
    "# Entrainement du modele sur le dataset labelisé\n",
    "mlp.fit(X_train_lab, y_train_lab)\n",
    "\n",
    "\n",
    "#Self Trainig\n",
    "mlp.predict_proba(X_test[:])\n",
    "mlp.predict(X_test[:, :])\n",
    "\n",
    "#Métrique \n",
    "print(\"_________________________________________________\")\n",
    "print(\"Score de prédiction : \",mlp.score(X_test, y_test))"
   ]
  },
  {
   "cell_type": "markdown",
   "metadata": {},
   "source": [
    "### LAB (40%), non-LAB (50%), TEST (10%)"
   ]
  },
  {
   "cell_type": "code",
   "execution_count": 148,
   "metadata": {},
   "outputs": [
    {
     "name": "stdout",
     "output_type": "stream",
     "text": [
      "_________________________________________________\n",
      "LAB (40%), non-LAB (50%), TEST (10%)  : \n",
      "                                                 \n",
      "-LAB : (956, 21)\n",
      "-non_LAB: (957, 21)\n",
      "-TEST : (213, 21)\n",
      "_________________________________________________\n",
      "Score de prédiction :  0.8544600938967136\n"
     ]
    }
   ],
   "source": [
    "#Bibliothèques\n",
    "from sklearn.neural_network import MLPClassifier\n",
    "from sklearn.model_selection import train_test_split\n",
    "from sklearn import datasets\n",
    "import pandas as pd\n",
    "#from sklearn.metrics import zero_one_loss, accuracy_score,precision_score, recall_score, f1_score\n",
    "from sklearn import preprocessing\n",
    "import numpy as np\n",
    "from sklearn.impute import SimpleImputer\n",
    "\n",
    "# 1 - Téléchargement et traitement du dataset fetal_health \n",
    "data = pd.read_csv('fetal_health.csv')\n",
    "data.shape\n",
    "imp = SimpleImputer(missing_values=np.nan, strategy='mean')\n",
    "imp.fit(data)\n",
    "data=imp.transform(data) \n",
    "NB_FEATURES=21\n",
    "X=data[:,0:NB_FEATURES]         # Features: inputs (21 premières colonnes)\n",
    "y=data[:,NB_FEATURES:].ravel()  # Target : output/ (Dernière colonne)\n",
    "\n",
    "# 2 - Préparation du dataset semi-supervisé\n",
    "# Découpage Train/Test\n",
    "X_train, X_test, y_train, y_test = train_test_split(X, y, test_size=0.10, random_state=1, stratify=y)\n",
    "# Découpage LAB/non-LAB \n",
    "X_train_lab, X_train_unlab, y_train_lab, y_train_unlab = train_test_split(X_train, y_train, test_size=0.50, random_state=1, stratify=y_train)\n",
    "#Ensemble de trainig 90% (40% LAB/ 50% non-LAB)\n",
    "print(\"_________________________________________________\")\n",
    "print(\"LAB (40%), non-LAB (50%), TEST (10%)  : \")\n",
    "print(\"                                                 \")\n",
    "print('-LAB :', X_train_lab.shape)\n",
    "print('-non_LAB:', X_train_unlab.shape)\n",
    "#Ensemble de test 10%\n",
    "print('-TEST :', X_test.shape)\n",
    "\n",
    "\n",
    "# 3 - Normalisation\n",
    "#scaler=preprocessing.StandardScaler().fit(X_train)\n",
    "#X_train=scaler.transform(X_train)\n",
    "#X_test=scaler.transform(X_test)\n",
    "\n",
    "# Définition d'un modele MLP (avec paramètres par défaut car il a donné déja de bons résultats)\n",
    "mlp = MLPClassifier(hidden_layer_sizes=(100,), activation='relu',  solver='adam',\n",
    "                   alpha=0.0001, batch_size='auto', learning_rate='constant', learning_rate_init=0.001,\n",
    "                   power_t=0.5, max_iter=200, shuffle=True, random_state=None, tol=0.0001, verbose=False,\n",
    "                   warm_start=False, momentum=0.9, nesterovs_momentum=True, early_stopping=False,\n",
    "                   validation_fraction=0.1, beta_1=0.9, beta_2=0.999, epsilon=1e-08, n_iter_no_change=10, \n",
    "                   )\n",
    "\n",
    "\n",
    "# Entrainement du modele sur le dataset labelisé\n",
    "mlp.fit(X_train_lab, y_train_lab)\n",
    "\n",
    "\n",
    "#Self Trainig\n",
    "mlp.predict_proba(X_test[:])\n",
    "mlp.predict(X_test[:, :])\n",
    "\n",
    "#Métrique\n",
    "print(\"_________________________________________________\")\n",
    "print(\"Score de prédiction : \",mlp.score(X_test, y_test))"
   ]
  },
  {
   "cell_type": "markdown",
   "metadata": {},
   "source": [
    "### LAB (50%), non-LAB (40%), TEST (10%)"
   ]
  },
  {
   "cell_type": "code",
   "execution_count": 153,
   "metadata": {},
   "outputs": [
    {
     "name": "stdout",
     "output_type": "stream",
     "text": [
      "_________________________________________________\n",
      "LAB (50%), non-LAB (40%), TEST (10%)  : \n",
      "                                                 \n",
      "-LAB : (1147, 21)\n",
      "-non_LAB: (766, 21)\n",
      "-TEST : (213, 21)\n",
      "_________________________________________________\n",
      "Score de prédiction :  0.8544600938967136\n"
     ]
    }
   ],
   "source": [
    "#Bibliothèques\n",
    "from sklearn.neural_network import MLPClassifier\n",
    "from sklearn.model_selection import train_test_split\n",
    "from sklearn import datasets\n",
    "import pandas as pd\n",
    "#from sklearn.metrics import zero_one_loss, accuracy_score,precision_score, recall_score, f1_score\n",
    "from sklearn import preprocessing\n",
    "import numpy as np\n",
    "from sklearn.impute import SimpleImputer\n",
    "\n",
    "# 1 - Téléchargement et traitement du dataset fetal_health \n",
    "data = pd.read_csv('fetal_health.csv')\n",
    "data.shape\n",
    "imp = SimpleImputer(missing_values=np.nan, strategy='mean')\n",
    "imp.fit(data)\n",
    "data=imp.transform(data) \n",
    "NB_FEATURES=21\n",
    "X=data[:,0:NB_FEATURES]         # Features: inputs (21 premières colonnes)\n",
    "y=data[:,NB_FEATURES:].ravel()  # Target : output/ (Dernière colonne)\n",
    "\n",
    "# 2 - Préparation du dataset semi-supervisé\n",
    "# Découpage Train/Test\n",
    "X_train, X_test, y_train, y_test = train_test_split(X, y, test_size=0.10, random_state=1, stratify=y)\n",
    "# Découpage LAB/non-LAB \n",
    "X_train_lab, X_train_unlab, y_train_lab, y_train_unlab = train_test_split(X_train, y_train, test_size=0.40, random_state=1, stratify=y_train)\n",
    "#Ensemble de trainig 90% (50% LAB/ 40% non-LAB)\n",
    "print(\"_________________________________________________\")\n",
    "print(\"LAB (50%), non-LAB (40%), TEST (10%)  : \")\n",
    "print(\"                                                 \")\n",
    "print('-LAB :', X_train_lab.shape)\n",
    "print('-non_LAB:', X_train_unlab.shape)\n",
    "#Ensemble de test 10%\n",
    "print('-TEST :', X_test.shape)\n",
    "\n",
    "\n",
    "# 3 - Normalisation\n",
    "#scaler=preprocessing.StandardScaler().fit(X_train)\n",
    "#X_train=scaler.transform(X_train)\n",
    "#X_test=scaler.transform(X_test)\n",
    "\n",
    "# Définition d'un modele MLP (avec paramètres par défaut car il a donné déja de bons résultats)\n",
    "mlp = MLPClassifier(hidden_layer_sizes=(100,), activation='relu',  solver='adam',\n",
    "                   alpha=0.0001, batch_size='auto', learning_rate='constant', learning_rate_init=0.001,\n",
    "                   power_t=0.5, max_iter=200, shuffle=True, random_state=None, tol=0.0001, verbose=False,\n",
    "                   warm_start=False, momentum=0.9, nesterovs_momentum=True, early_stopping=False,\n",
    "                   validation_fraction=0.1, beta_1=0.9, beta_2=0.999, epsilon=1e-08, n_iter_no_change=10, \n",
    "                   )\n",
    "\n",
    "\n",
    "# Entrainement du modele sur le dataset labelisé\n",
    "mlp.fit(X_train_lab, y_train_lab)\n",
    "\n",
    "\n",
    "#Self Trainig\n",
    "mlp.predict_proba(X_test[:])\n",
    "mlp.predict(X_test[:, :])\n",
    "\n",
    "#Métrique\n",
    "print(\"_________________________________________________\")\n",
    "print(\"Score de prédiction : \",mlp.score(X_test, y_test))"
   ]
  },
  {
   "cell_type": "markdown",
   "metadata": {},
   "source": [
    "### LAB (60%), non-LAB (30%), TEST (10%)"
   ]
  },
  {
   "cell_type": "code",
   "execution_count": 172,
   "metadata": {},
   "outputs": [
    {
     "name": "stdout",
     "output_type": "stream",
     "text": [
      "_________________________________________________\n",
      "LAB (60%), non-LAB (30%), TEST (10%)  : \n",
      "                                                 \n",
      "-LAB : (1339, 21)\n",
      "-non_LAB: (574, 21)\n",
      "-TEST : (213, 21)\n",
      "_________________________________________________\n",
      "Score de prédiction :  0.8591549295774648\n"
     ]
    }
   ],
   "source": [
    "#Bibliothèques\n",
    "from sklearn.neural_network import MLPClassifier\n",
    "from sklearn.model_selection import train_test_split\n",
    "from sklearn import datasets\n",
    "import pandas as pd\n",
    "#from sklearn.metrics import zero_one_loss, accuracy_score,precision_score, recall_score, f1_score\n",
    "from sklearn import preprocessing\n",
    "import numpy as np\n",
    "from sklearn.impute import SimpleImputer\n",
    "\n",
    "# 1 - Téléchargement et traitement du dataset fetal_health \n",
    "data = pd.read_csv('fetal_health.csv')\n",
    "data.shape\n",
    "imp = SimpleImputer(missing_values=np.nan, strategy='mean')\n",
    "imp.fit(data)\n",
    "data=imp.transform(data) \n",
    "NB_FEATURES=21\n",
    "X=data[:,0:NB_FEATURES]         # Features: inputs (21 premières colonnes)\n",
    "y=data[:,NB_FEATURES:].ravel()  # Target : output/ (Dernière colonne)\n",
    "\n",
    "# 2 - Préparation du dataset semi-supervisé\n",
    "# Découpage Train/Test\n",
    "X_train, X_test, y_train, y_test = train_test_split(X, y, test_size=0.10, random_state=1, stratify=y)\n",
    "# Découpage LAB/non-LAB \n",
    "X_train_lab, X_train_unlab, y_train_lab, y_train_unlab = train_test_split(X_train, y_train, test_size=0.30, random_state=1, stratify=y_train)\n",
    "#Ensemble de trainig 90% (60% LAB/ 30% non-LAB)\n",
    "print(\"_________________________________________________\")\n",
    "print(\"LAB (60%), non-LAB (30%), TEST (10%)  : \")\n",
    "print(\"                                                 \")\n",
    "print('-LAB :', X_train_lab.shape)\n",
    "print('-non_LAB:', X_train_unlab.shape)\n",
    "#Ensemble de test 10%\n",
    "print('-TEST :', X_test.shape)\n",
    "\n",
    "\n",
    "# 3 - Normalisation\n",
    "#scaler=preprocessing.StandardScaler().fit(X_train)\n",
    "#X_train=scaler.transform(X_train)\n",
    "#X_test=scaler.transform(X_test)\n",
    "\n",
    "# Définition d'un modele MLP (avec paramètres par défaut car il a donné déja de bons résultats)\n",
    "mlp = MLPClassifier(hidden_layer_sizes=(100,), activation='relu',  solver='adam',\n",
    "                   alpha=0.0001, batch_size='auto', learning_rate='constant', learning_rate_init=0.001,\n",
    "                   power_t=0.5, max_iter=200, shuffle=True, random_state=None, tol=0.0001, verbose=False,\n",
    "                   warm_start=False, momentum=0.9, nesterovs_momentum=True, early_stopping=False,\n",
    "                   validation_fraction=0.1, beta_1=0.9, beta_2=0.999, epsilon=1e-08, n_iter_no_change=10, \n",
    "                   )\n",
    "\n",
    "\n",
    "# Entrainement du modele sur le dataset labelisé\n",
    "mlp.fit(X_train_lab, y_train_lab)\n",
    "\n",
    "\n",
    "#Self Trainig\n",
    "mlp.predict_proba(X_test[:])\n",
    "mlp.predict(X_test[:, :])\n",
    "\n",
    "#Métrique\n",
    "print(\"_________________________________________________\")\n",
    "print(\"Score de prédiction : \",mlp.score(X_test, y_test))"
   ]
  },
  {
   "cell_type": "markdown",
   "metadata": {},
   "source": [
    "### LAB (70%), non-LAB (20%), TEST (10%)"
   ]
  },
  {
   "cell_type": "code",
   "execution_count": 184,
   "metadata": {},
   "outputs": [
    {
     "name": "stdout",
     "output_type": "stream",
     "text": [
      "_________________________________________________\n",
      "LAB (70%), non-LAB (20%), TEST (10%)  : \n",
      "                                                 \n",
      "-LAB : (1530, 21)\n",
      "-non_LAB: (383, 21)\n",
      "-TEST : (213, 21)\n",
      "_________________________________________________\n",
      "Score de prédiction :  0.8544600938967136\n"
     ]
    }
   ],
   "source": [
    "#Bibliothèques\n",
    "from sklearn.neural_network import MLPClassifier\n",
    "from sklearn.model_selection import train_test_split\n",
    "from sklearn import datasets\n",
    "import pandas as pd\n",
    "#from sklearn.metrics import zero_one_loss, accuracy_score,precision_score, recall_score, f1_score\n",
    "from sklearn import preprocessing\n",
    "import numpy as np\n",
    "from sklearn.impute import SimpleImputer\n",
    "\n",
    "# 1 - Téléchargement et traitement du dataset fetal_health \n",
    "data = pd.read_csv('fetal_health.csv')\n",
    "data.shape\n",
    "imp = SimpleImputer(missing_values=np.nan, strategy='mean')\n",
    "imp.fit(data)\n",
    "data=imp.transform(data) \n",
    "NB_FEATURES=21\n",
    "X=data[:,0:NB_FEATURES]         # Features: inputs (21 premières colonnes)\n",
    "y=data[:,NB_FEATURES:].ravel()  # Target : output/ (Dernière colonne)\n",
    "\n",
    "\n",
    "# 2 - Préparation du dataset semi-supervisé\n",
    "# Découpage Train/Test\n",
    "X_train, X_test, y_train, y_test = train_test_split(X, y, test_size=0.10, random_state=1, stratify=y)\n",
    "# Découpage LAB/non-LAB \n",
    "X_train_lab, X_train_unlab, y_train_lab, y_train_unlab = train_test_split(X_train, y_train, test_size=0.20, random_state=1, stratify=y_train)\n",
    "#Ensemble de trainig 90% (70% LAB/ 20% non-LAB)\n",
    "print(\"_________________________________________________\")\n",
    "print(\"LAB (70%), non-LAB (20%), TEST (10%)  : \")\n",
    "print(\"                                                 \")\n",
    "print('-LAB :', X_train_lab.shape)\n",
    "print('-non_LAB:', X_train_unlab.shape)\n",
    "#Ensemble de test 10%\n",
    "print('-TEST :', X_test.shape)\n",
    "\n",
    "\n",
    "# 3 - Normalisation\n",
    "#scaler=preprocessing.StandardScaler().fit(X_train)\n",
    "#X_train=scaler.transform(X_train)\n",
    "#X_test=scaler.transform(X_test)\n",
    "\n",
    "# Définition d'un modele MLP (avec paramètres par défaut car il a donné déja de bons résultats)\n",
    "mlp = MLPClassifier(hidden_layer_sizes=(100,), activation='relu',  solver='adam',\n",
    "                   alpha=0.0001, batch_size='auto', learning_rate='constant', learning_rate_init=0.001,\n",
    "                   power_t=0.5, max_iter=200, shuffle=True, random_state=None, tol=0.0001, verbose=False,\n",
    "                   warm_start=False, momentum=0.9, nesterovs_momentum=True, early_stopping=False,\n",
    "                   validation_fraction=0.1, beta_1=0.9, beta_2=0.999, epsilon=1e-08, n_iter_no_change=10, \n",
    "                   )\n",
    "\n",
    "\n",
    "# Entrainement du modele sur le dataset labelisé\n",
    "mlp.fit(X_train_lab, y_train_lab)\n",
    "\n",
    "\n",
    "#Self Trainig\n",
    "mlp.predict_proba(X_test[:])\n",
    "mlp.predict(X_test[:, :])\n",
    "\n",
    "#Métrique\n",
    "print(\"_________________________________________________\")\n",
    "print(\"Score de prédiction : \",mlp.score(X_test, y_test))"
   ]
  },
  {
   "cell_type": "markdown",
   "metadata": {},
   "source": [
    "### LAB (80%), non-LAB (10%), TEST (10%)"
   ]
  },
  {
   "cell_type": "code",
   "execution_count": 187,
   "metadata": {},
   "outputs": [
    {
     "name": "stdout",
     "output_type": "stream",
     "text": [
      "_________________________________________________\n",
      "LAB (80%), non-LAB (10%), TEST (10%)  : \n",
      "                                                 \n",
      "-LAB : (1721, 21)\n",
      "-non_LAB: (192, 21)\n",
      "-TEST : (213, 21)\n",
      "_________________________________________________\n",
      "Score de prédiction :  0.8544600938967136\n"
     ]
    }
   ],
   "source": [
    "#Bibliothèques\n",
    "from sklearn.neural_network import MLPClassifier\n",
    "from sklearn.model_selection import train_test_split\n",
    "from sklearn import datasets\n",
    "import pandas as pd\n",
    "#from sklearn.metrics import zero_one_loss, accuracy_score,precision_score, recall_score, f1_score\n",
    "from sklearn import preprocessing\n",
    "import numpy as np\n",
    "from sklearn.impute import SimpleImputer\n",
    "\n",
    "# 1 - Téléchargement et traitement du dataset fetal_health \n",
    "data = pd.read_csv('fetal_health.csv')\n",
    "data.shape\n",
    "imp = SimpleImputer(missing_values=np.nan, strategy='mean')\n",
    "imp.fit(data)\n",
    "data=imp.transform(data) \n",
    "NB_FEATURES=21\n",
    "X=data[:,0:NB_FEATURES]         # Features: inputs (21 premières colonnes)\n",
    "y=data[:,NB_FEATURES:].ravel()  # Target : output/ (Dernière colonne)\n",
    "\n",
    "\n",
    "# 2 - Préparation du dataset semi-supervisé\n",
    "# Découpage Train/Test\n",
    "X_train, X_test, y_train, y_test = train_test_split(X, y, test_size=0.10, random_state=1, stratify=y)\n",
    "# Découpage LAB/non-LAB\n",
    "X_train_lab, X_train_unlab, y_train_lab, y_train_unlab = train_test_split(X_train, y_train, test_size=0.10, random_state=1, stratify=y_train)\n",
    "#Ensemble de trainig 90% (80% LAB/ 10% non-LAB)\n",
    "print(\"_________________________________________________\")\n",
    "print(\"LAB (80%), non-LAB (10%), TEST (10%)  : \")\n",
    "print(\"                                                 \")\n",
    "print('-LAB :', X_train_lab.shape)\n",
    "print('-non_LAB:', X_train_unlab.shape)\n",
    "#Ensemble de test 10%\n",
    "print('-TEST :', X_test.shape)\n",
    "\n",
    "\n",
    "# 3 - Normalisation\n",
    "#scaler=preprocessing.StandardScaler().fit(X_train)\n",
    "#X_train=scaler.transform(X_train)\n",
    "#X_test=scaler.transform(X_test)\n",
    "\n",
    "# Définition d'un modele MLP (avec paramètres par défaut car il a donné déja de bons résultats)\n",
    "mlp = MLPClassifier(hidden_layer_sizes=(100,), activation='relu',  solver='adam',\n",
    "                   alpha=0.0001, batch_size='auto', learning_rate='constant', learning_rate_init=0.001,\n",
    "                   power_t=0.5, max_iter=200, shuffle=True, random_state=None, tol=0.0001, verbose=False,\n",
    "                   warm_start=False, momentum=0.9, nesterovs_momentum=True, early_stopping=False,\n",
    "                   validation_fraction=0.1, beta_1=0.9, beta_2=0.999, epsilon=1e-08, n_iter_no_change=10, \n",
    "                   )\n",
    "\n",
    "\n",
    "# Entrainement du modele sur le dataset labelisé\n",
    "mlp.fit(X_train_lab, y_train_lab)\n",
    "\n",
    "\n",
    "#Self Trainig\n",
    "mlp.predict_proba(X_test[:])\n",
    "mlp.predict(X_test[:, :])\n",
    "\n",
    "#Métrique\n",
    "print(\"_________________________________________________\")\n",
    "print(\"Score de prédiction : \",mlp.score(X_test, y_test))"
   ]
  },
  {
   "cell_type": "markdown",
   "metadata": {},
   "source": [
    "### variation de la métrique (score de prédiction) en fonction des proportions LAB/non-LAB \n",
    "#### PS : résultats copiés de l'Excel\n"
   ]
  },
  {
   "attachments": {
    "image.png": {
     "image/png": "[encoded data removed]"
    }
   },
   "cell_type": "markdown",
   "metadata": {},
   "source": [
    "![image.png](attachment:image.png)"
   ]
  },
  {
   "attachments": {
    "image.png": {
     "image/png": "[encoded data removed]"
    }
   },
   "cell_type": "markdown",
   "metadata": {},
   "source": [
    "\tLAB (10%) / non-LAB (80%)\tLAB (20%) / non-LAB (70%)\tLAB (30%) / non-LAB (60%)\tLAB (40%) / non-LAB (50%)\tLAB (50%) / non-LAB (40%)\tLAB (60%) / non-LAB (30%)\tLAB (70%) / non-LAB (20%)\tLAB (80%) / non-LAB (10%)\n",
    "Score de prédiction\t0,88\t0,863849765\t0,863849765\t0,854460094\t0,854460094\t0,85915493\t0,854460094\t0,854460094\n",
    "![image.png](attachment:image.png)"
   ]
  },
  {
   "cell_type": "markdown",
   "metadata": {},
   "source": [
    "# LAB (90%), non-LAB (0%), TEST (10%)\n",
    "##### Il s'agit de l'apprentissage supervisé (étape 2)."
   ]
  },
  {
   "cell_type": "markdown",
   "metadata": {},
   "source": [
    "# LAB (0%), non-LAB (90%), TEST (10%)\n",
    "##### Il s'agit de l'apprentissage non-supervisé (Machines Boltzmann restreintes)"
   ]
  },
  {
   "cell_type": "code",
   "execution_count": null,
   "metadata": {},
   "outputs": [],
   "source": [
    "\n"
   ]
  }
 ],
 "metadata": {
  "kernelspec": {
   "display_name": "Python 3",
   "language": "python",
   "name": "python3"
  },
  "language_info": {
   "codemirror_mode": {
    "name": "ipython",
    "version": 3
   },
   "file_extension": ".py",
   "mimetype": "text/x-python",
   "name": "python",
   "nbconvert_exporter": "python",
   "pygments_lexer": "ipython3",
   "version": "3.7.4"
  }
 },
 "nbformat": 4,
 "nbformat_minor": 2
}
