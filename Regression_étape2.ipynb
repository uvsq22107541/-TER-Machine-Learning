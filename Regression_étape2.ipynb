{
 "cells": [
  {
   "cell_type": "code",
   "execution_count": 434,
   "metadata": {},
   "outputs": [],
   "source": [
    "#REGRESSION"
   ]
  },
  {
   "cell_type": "code",
   "execution_count": 435,
   "metadata": {},
   "outputs": [],
   "source": [
    "#Bibliotèques\n",
    "from sklearn.neural_network import MLPRegressor\n",
    "import matplotlib.pyplot as plt\n",
    "import numpy as np\n",
    "from sklearn import datasets\n",
    "from sklearn.model_selection import train_test_split\n",
    "from sklearn.metrics import mean_squared_error, r2_score\n",
    "from sklearn import preprocessing"
   ]
  },
  {
   "cell_type": "code",
   "execution_count": 436,
   "metadata": {},
   "outputs": [],
   "source": [
    "#Télécharchement du Dataset \"diabetes\"\n",
    "data = datasets.load_diabetes()"
   ]
  },
  {
   "cell_type": "code",
   "execution_count": 437,
   "metadata": {},
   "outputs": [
    {
     "name": "stdout",
     "output_type": "stream",
     "text": [
      "dict_keys(['data', 'target', 'DESCR', 'feature_names', 'data_filename', 'target_filename'])\n"
     ]
    }
   ],
   "source": [
    "#Affichage des clés du Dataset\n",
    "print(data.keys())"
   ]
  },
  {
   "cell_type": "code",
   "execution_count": 438,
   "metadata": {},
   "outputs": [
    {
     "name": "stdout",
     "output_type": "stream",
     "text": [
      "(442,)\n"
     ]
    }
   ],
   "source": [
    "#Affichage du nombre d'observations\n",
    "print(data.target.shape)"
   ]
  },
  {
   "cell_type": "code",
   "execution_count": 439,
   "metadata": {},
   "outputs": [
    {
     "name": "stdout",
     "output_type": "stream",
     "text": [
      "['age', 'sex', 'bmi', 'bp', 's1', 's2', 's3', 's4', 's5', 's6']\n"
     ]
    }
   ],
   "source": [
    "#Affichage des Inputs / Features\n",
    "print(data.feature_names)"
   ]
  },
  {
   "cell_type": "code",
   "execution_count": 440,
   "metadata": {},
   "outputs": [],
   "source": [
    "diabetes_X, diabetes_y = datasets.load_diabetes(return_X_y=True)\n",
    "\n",
    "#Précision d'une feature uniquement (dans notre cas la 1ère i.e 2ème colone : l'age)- pour le plot\n",
    "#diabetes_X = diabetes_X[:, np.newaxis, 2]"
   ]
  },
  {
   "cell_type": "code",
   "execution_count": 441,
   "metadata": {},
   "outputs": [
    {
     "name": "stdout",
     "output_type": "stream",
     "text": [
      "(353, 10)\n",
      "(89, 10)\n"
     ]
    }
   ],
   "source": [
    "#80% TRAINING / 20% TEST\n",
    "X = data.data\n",
    "y = data.target\n",
    "diabetes_X_train, diabetes_X_test, diabetes_y_train, diabetes_y_test = train_test_split(X, y, test_size=0.20, shuffle=True)\n",
    "print(diabetes_X_train.shape); print(diabetes_X_test.shape)"
   ]
  },
  {
   "cell_type": "code",
   "execution_count": 442,
   "metadata": {},
   "outputs": [],
   "source": [
    "#X et y doivent avoir la même taille (il faut bien le préciser pour pour le plot)\n",
    "\n",
    "#Précision que data et targets d'entrainement ait la même taille (80%, 80%)\n",
    "#diabetes_X_train = diabetes_X[:-353]\n",
    "#diabetes_y_train = diabetes_y[:-353]\n",
    "\n",
    "#Précision que data et targets de test ait la même taille (20%, 20%)\n",
    "#diabetes_X_test = diabetes_X[-89:]\n",
    "#diabetes_y_test = diabetes_y[-89:]"
   ]
  },
  {
   "cell_type": "code",
   "execution_count": 443,
   "metadata": {},
   "outputs": [],
   "source": [
    "#Normalisation du Dataset \n",
    "scaler=preprocessing.StandardScaler().fit(diabetes_X_train)\n",
    "diabetes_X_train=scaler.transform(diabetes_X_train)\n",
    "diabetes_X_test=scaler.transform(diabetes_X_test)"
   ]
  },
  {
   "cell_type": "code",
   "execution_count": 444,
   "metadata": {},
   "outputs": [],
   "source": [
    "regr = MLPRegressor(hidden_layer_sizes=(100,), activation='relu',  solver='adam',\n",
    "                   alpha=0.0001, batch_size='auto', learning_rate='constant', learning_rate_init=0.001,\n",
    "                   power_t=0.5, max_iter=200, shuffle=True, random_state=1, tol=0.0001, verbose=False,\n",
    "                   warm_start=False, momentum=0.9, nesterovs_momentum=True, early_stopping=False,\n",
    "                   validation_fraction=0.1, beta_1=0.9, beta_2=0.999, epsilon=1e-08, n_iter_no_change=10, \n",
    "                   )"
   ]
  },
  {
   "cell_type": "code",
   "execution_count": 445,
   "metadata": {},
   "outputs": [
    {
     "name": "stderr",
     "output_type": "stream",
     "text": [
      "C:\\Users\\HP\\Anaconda3\\lib\\site-packages\\sklearn\\neural_network\\multilayer_perceptron.py:566: ConvergenceWarning: Stochastic Optimizer: Maximum iterations (200) reached and the optimization hasn't converged yet.\n",
      "  % self.max_iter, ConvergenceWarning)\n"
     ]
    },
    {
     "data": {
      "text/plain": [
       "MLPRegressor(activation='relu', alpha=0.0001, batch_size='auto', beta_1=0.9,\n",
       "             beta_2=0.999, early_stopping=False, epsilon=1e-08,\n",
       "             hidden_layer_sizes=(100,), learning_rate='constant',\n",
       "             learning_rate_init=0.001, max_iter=200, momentum=0.9,\n",
       "             n_iter_no_change=10, nesterovs_momentum=True, power_t=0.5,\n",
       "             random_state=1, shuffle=True, solver='adam', tol=0.0001,\n",
       "             validation_fraction=0.1, verbose=False, warm_start=False)"
      ]
     },
     "execution_count": 445,
     "metadata": {},
     "output_type": "execute_result"
    }
   ],
   "source": [
    "#Entraînement du modèle en utilisant l'ensemble d'Entrainement\n",
    "regr.fit(diabetes_X_train, diabetes_y_train)"
   ]
  },
  {
   "cell_type": "code",
   "execution_count": 446,
   "metadata": {},
   "outputs": [],
   "source": [
    "#Faire des prédictions en utilisant l'ensemble de test\n",
    "diabetes_y_pred = regr.predict(diabetes_X_test)"
   ]
  },
  {
   "cell_type": "code",
   "execution_count": 447,
   "metadata": {},
   "outputs": [
    {
     "name": "stdout",
     "output_type": "stream",
     "text": [
      " RSS = 964060.62\n",
      " RSE = 1.80\n",
      " R2 (Coefficient de determination) = -0.80\n"
     ]
    }
   ],
   "source": [
    "#Métriques\n",
    "#print(\"RSS : %.2f\" % mean_squared_error(diabetes_y_test, diabetes_y_pred))\n",
    "RSS=mean_squared_error(diabetes_y_test, diabetes_y_pred)*89\n",
    "print(\" RSS = %.2f\" % RSS)\n",
    "print(\" RSE = %.2f\" % (1-r2_score(diabetes_y_test, diabetes_y_pred)))\n",
    "print(\" R2 (Coefficient de determination) = %.2f\" % r2_score(diabetes_y_test, diabetes_y_pred))"
   ]
  },
  {
   "cell_type": "code",
   "execution_count": 448,
   "metadata": {},
   "outputs": [],
   "source": [
    "#Etapes nécessaires pour tracer le plot de la regression pour un seul attribut du dataset \n",
    "#il faut les décomenter dans le code ci-dessus \n",
    "#---------------------------------------------------------------------------------------------------------------\n",
    "\n",
    "#---------------------------------------------------------------------------------------------------------------\n",
    "#1- Précision d'une feature/attribut uniquement (dans notre cas la 1ère i.e 2ème colone : l'age) - pour le plot\n",
    "#diabetes_X = diabetes_X[:, np.newaxis, 2]\n",
    "#---------------------------------------------------------------------------------------------------------------\n",
    "\n",
    "#---------------------------------------------------------------------------------------------------------------\n",
    "#2- X et y doivent avoir la même taille (il faut bien le préciser pour avoir le plot)\n",
    "\n",
    "#Précision que data et targets d'entrainement ait la même taille (80%, 80%)\n",
    "#diabetes_X_train = diabetes_X[:-353]\n",
    "#diabetes_y_train = diabetes_y[:-353]\n",
    "\n",
    "#Précision que data et targets de test ait la même taille (20%, 20%)\n",
    "#diabetes_X_test = diabetes_X[-89:]\n",
    "#diabetes_y_test = diabetes_y[-89:]\n",
    "#---------------------------------------------------------------------------------------------------------------\n",
    "\n",
    "#---------------------------------------------------------------------------------------------------------------\n",
    "#3- Modèle issu du MLPRegressor (tracable uniquement lorsque on précise un seul attribut du dataset)\n",
    "\n",
    "#plt.scatter(diabetes_X_test, diabetes_y_test, color=\"black\")\n",
    "#plt.plot(diabetes_X_test, diabetes_y_pred, color=\"blue\", linewidth=3)\n",
    "#plt.xticks(())\n",
    "#plt.yticks(())\n",
    "\n",
    "#plt.show()\n",
    "#---------------------------------------------------------------------------------------------------------------"
   ]
  }
 ],
 "metadata": {
  "kernelspec": {
   "display_name": "Python 3",
   "language": "python",
   "name": "python3"
  },
  "language_info": {
   "codemirror_mode": {
    "name": "ipython",
    "version": 3
   },
   "file_extension": ".py",
   "mimetype": "text/x-python",
   "name": "python",
   "nbconvert_exporter": "python",
   "pygments_lexer": "ipython3",
   "version": "3.7.4"
  }
 },
 "nbformat": 4,
 "nbformat_minor": 2
}
