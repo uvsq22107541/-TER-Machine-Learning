{
  "cells": [
    {
      "cell_type": "markdown",
      "metadata": {
        "id": "FtXN-zijc1DT"
      },
      "source": [
        "#### 1.Bibliothèques "
      ]
    },
    {
      "cell_type": "code",
      "execution_count": 1,
      "metadata": {
        "id": "x65WNIlIc1DZ"
      },
      "outputs": [],
      "source": [
        "import numpy as np\n",
        "import pandas as pd\n",
        "from sklearn.neural_network import MLPClassifier\n",
        "from sklearn.model_selection import train_test_split\n",
        "from sklearn.model_selection import train_test_split\n",
        "from sklearn.impute import SimpleImputer\n",
        "from sklearn import preprocessing\n",
        "from sklearn.metrics import zero_one_loss, accuracy_score, precision_score, recall_score, f1_score, confusion_matrix"
      ]
    },
    {
      "cell_type": "markdown",
      "metadata": {
        "id": "19-D187dc1Db"
      },
      "source": [
        "#### 2. Chargement de données depuis le fichier 'fetal_health.csv'"
      ]
    },
    {
      "cell_type": "code",
      "execution_count": 2,
      "metadata": {
        "colab": {
          "base_uri": "https://localhost:8080/"
        },
        "id": "12_0LU8kc1Dc",
        "outputId": "2b64f889-7868-49ed-dfd7-3ace8c5b10f3"
      },
      "outputs": [
        {
          "output_type": "execute_result",
          "data": {
            "text/plain": [
              "(2126, 22)"
            ]
          },
          "metadata": {},
          "execution_count": 2
        }
      ],
      "source": [
        "data = pd.read_csv('fetal_health.csv')\n",
        "data.shape"
      ]
    },
    {
      "cell_type": "markdown",
      "metadata": {
        "id": "5Vb6pl8ac1Dd"
      },
      "source": [
        "#### 3.  Correction de données manquantes : exemple de complétion de ces valeurs par la moyenne de la colonne\n",
        "PS : Nous n'avons pas de valeurs manquantes donc ce bout de code ne va pas influencer notre code ou données  "
      ]
    },
    {
      "cell_type": "code",
      "execution_count": 3,
      "metadata": {
        "id": "ppocQ9AZc1De"
      },
      "outputs": [],
      "source": [
        "imp = SimpleImputer(missing_values=np.nan, strategy='mean')\n",
        "imp.fit(data)\n",
        "data=imp.transform(data) "
      ]
    },
    {
      "cell_type": "markdown",
      "metadata": {
        "id": "IhrWFEPkc1De"
      },
      "source": [
        "#### 4. Séprataion des attributs (Inputs) et de l'attribut objectif (Output)"
      ]
    },
    {
      "cell_type": "code",
      "execution_count": 4,
      "metadata": {
        "id": "MCSFHcz6c1Dg"
      },
      "outputs": [],
      "source": [
        "NB_FEATURES=21\n",
        "X=data[:,0:NB_FEATURES]         # Features: inputs (21 premières colonnes)\n",
        "y=data[:,NB_FEATURES:].ravel()  # Target : output/ (Dernière colonne)"
      ]
    },
    {
      "cell_type": "markdown",
      "metadata": {
        "id": "tCcj_disc1Dg"
      },
      "source": [
        "#### 5. Découpage de l'ensemble de données : 80% TRAINING, 20% TEST"
      ]
    },
    {
      "cell_type": "code",
      "execution_count": 5,
      "metadata": {
        "id": "rQ8n2eknc1Dh"
      },
      "outputs": [],
      "source": [
        "TEST_SIZE = 0.20\n",
        "X_train, X_test, y_train, y_test = train_test_split(X, y, test_size=TEST_SIZE,shuffle=True)"
      ]
    },
    {
      "cell_type": "markdown",
      "metadata": {
        "id": "hBBlbfZOc1Di"
      },
      "source": [
        "#### 6. Affihage des quelques informations concernant notre dataset "
      ]
    },
    {
      "cell_type": "code",
      "execution_count": 6,
      "metadata": {
        "colab": {
          "base_uri": "https://localhost:8080/"
        },
        "id": "KFvo8qo8c1Di",
        "outputId": "aa012d39-5812-4cf7-d007-35109471310d"
      },
      "outputs": [
        {
          "output_type": "stream",
          "name": "stdout",
          "text": [
            " >>> Taille du dataset / nombre d'instances :\t 2126 \n",
            " >>> Nombre d'attributs / Inputs : \t\t 21 \n",
            " >>> Taille du dataset d'entrainement : \t 1700\n",
            " >>> Taille du dataset de test : \t\t 426\n"
          ]
        }
      ],
      "source": [
        "print(f\" >>> Taille du dataset / nombre d'instances :\\t {data.shape[0]} \")\n",
        "print(f\" >>> Nombre d'attributs / Inputs : \\t\\t {NB_FEATURES} \")\n",
        "print(f\" >>> Taille du dataset d'entrainement : \\t {X_train.shape[0]}\")\n",
        "print(f\" >>> Taille du dataset de test : \\t\\t {X_test.shape[0]}\")"
      ]
    },
    {
      "cell_type": "markdown",
      "metadata": {
        "id": "5Ibh43goc1Dj"
      },
      "source": [
        "#### 7. Normalisation des données"
      ]
    },
    {
      "cell_type": "code",
      "execution_count": 9,
      "metadata": {
        "id": "CDDVzzvIc1Dj"
      },
      "outputs": [],
      "source": [
        "#Normalisation\n",
        "scaler=preprocessing.StandardScaler().fit(X_train)\n",
        "X_train=scaler.transform(X_train)\n",
        "X_test=scaler.transform(X_test)"
      ]
    },
    {
      "cell_type": "markdown",
      "metadata": {
        "id": "0kzN2LAKc1Dj"
      },
      "source": [
        "# Etape 2 : Paramètres par défaut\n",
        "#### 8. Création d'un modèle de classification avec les paramètres par défaut de ScikitLearn + apprentissage du modèle"
      ]
    },
    {
      "cell_type": "code",
      "execution_count": 7,
      "metadata": {
        "id": "_usg_FhCc1Dk"
      },
      "outputs": [],
      "source": [
        "mlp =MLPClassifier(hidden_layer_sizes=(100,), activation='relu',  solver='adam',\n",
        "                   alpha=0.0001, batch_size='auto', learning_rate='constant', learning_rate_init=0.001,\n",
        "                   power_t=0.5, max_iter=200, shuffle=True, random_state=None, tol=0.0001, verbose=False,\n",
        "                   warm_start=False, momentum=0.9, nesterovs_momentum=True, early_stopping=False,\n",
        "                   validation_fraction=0.1, beta_1=0.9, beta_2=0.999, epsilon=1e-08, n_iter_no_change=10, \n",
        "                   )\n",
        "\n",
        "mlp.fit(X_train,y_train)\n",
        "y_pred=mlp.predict(X_test)"
      ]
    },
    {
      "cell_type": "markdown",
      "metadata": {
        "id": "pi3KYx-Sc1Dk"
      },
      "source": [
        "#### 9. Métrique de classification"
      ]
    },
    {
      "cell_type": "code",
      "execution_count": 45,
      "metadata": {
        "colab": {
          "base_uri": "https://localhost:8080/"
        },
        "id": "s5abwDg8c1Dl",
        "outputId": "ddf174aa-4eeb-496b-8027-37970744eedd"
      },
      "outputs": [
        {
          "output_type": "stream",
          "name": "stdout",
          "text": [
            " Score final : 0.8685446009389671\n"
          ]
        }
      ],
      "source": [
        "print(\" Score final : \" +str(accuracy_score(y_test,y_pred)))"
      ]
    },
    {
      "cell_type": "markdown",
      "metadata": {
        "id": "7PcDP424c1Dl"
      },
      "source": [
        "# Etape 3 : Meilleurs paramètres (GridSearchCV)"
      ]
    },
    {
      "cell_type": "markdown",
      "metadata": {
        "id": "SdOW70ohc1Dl"
      },
      "source": [
        "#### 10. Utilisation de la méthode GridSearchCV qui trouve facilement les valeurs optimales parmi les valeurs données pour les paramètres pertinents (activation, solver, learning_rate, max_iter)"
      ]
    },
    {
      "cell_type": "code",
      "execution_count": 10,
      "metadata": {
        "colab": {
          "base_uri": "https://localhost:8080/"
        },
        "id": "zsAyjnC8c1Dm",
        "outputId": "c37e8421-8b91-40b0-c4be-fed4f93c947d"
      },
      "outputs": [
        {
          "output_type": "stream",
          "name": "stdout",
          "text": [
            "Le nombre de combinaisons (modèles) possible est : 108 \n",
            " \n",
            " \n",
            "|  Mean  |   Std   |  Combinaison / Modèle \n",
            "-------------------------------------------------------------------------------------------------------------------\n",
            "0.827    | 0.092   | {'activation': 'relu', 'learning_rate': 'constant', 'max_iter': 200, 'solver': 'adam'}\n",
            "0.841    | 0.055   | {'activation': 'relu', 'learning_rate': 'constant', 'max_iter': 200, 'solver': 'lbfgs'}\n",
            "0.833    | 0.086   | {'activation': 'relu', 'learning_rate': 'constant', 'max_iter': 200, 'solver': 'sgd'}\n",
            "0.832    | 0.108   | {'activation': 'relu', 'learning_rate': 'constant', 'max_iter': 2000, 'solver': 'adam'}\n",
            "0.837    | 0.109   | {'activation': 'relu', 'learning_rate': 'constant', 'max_iter': 2000, 'solver': 'lbfgs'}\n",
            "0.861    | 0.076   | {'activation': 'relu', 'learning_rate': 'constant', 'max_iter': 2000, 'solver': 'sgd'}\n",
            "0.861    | 0.084   | {'activation': 'relu', 'learning_rate': 'constant', 'max_iter': 3000, 'solver': 'adam'}\n",
            "0.788    | 0.111   | {'activation': 'relu', 'learning_rate': 'constant', 'max_iter': 3000, 'solver': 'lbfgs'}\n",
            "0.845    | 0.079   | {'activation': 'relu', 'learning_rate': 'constant', 'max_iter': 3000, 'solver': 'sgd'}\n",
            "0.831    | 0.092   | {'activation': 'relu', 'learning_rate': 'adaptive', 'max_iter': 200, 'solver': 'adam'}\n",
            "0.808    | 0.078   | {'activation': 'relu', 'learning_rate': 'adaptive', 'max_iter': 200, 'solver': 'lbfgs'}\n",
            "0.833    | 0.077   | {'activation': 'relu', 'learning_rate': 'adaptive', 'max_iter': 200, 'solver': 'sgd'}\n",
            "0.821    | 0.078   | {'activation': 'relu', 'learning_rate': 'adaptive', 'max_iter': 2000, 'solver': 'adam'}\n",
            "0.789    | 0.091   | {'activation': 'relu', 'learning_rate': 'adaptive', 'max_iter': 2000, 'solver': 'lbfgs'}\n",
            "0.838    | 0.078   | {'activation': 'relu', 'learning_rate': 'adaptive', 'max_iter': 2000, 'solver': 'sgd'}\n",
            "0.834    | 0.075   | {'activation': 'relu', 'learning_rate': 'adaptive', 'max_iter': 3000, 'solver': 'adam'}\n",
            "0.796    | 0.107   | {'activation': 'relu', 'learning_rate': 'adaptive', 'max_iter': 3000, 'solver': 'lbfgs'}\n",
            "0.850    | 0.082   | {'activation': 'relu', 'learning_rate': 'adaptive', 'max_iter': 3000, 'solver': 'sgd'}\n",
            "0.847    | 0.089   | {'activation': 'relu', 'learning_rate': 'invscaling', 'max_iter': 200, 'solver': 'adam'}\n",
            "0.835    | 0.054   | {'activation': 'relu', 'learning_rate': 'invscaling', 'max_iter': 200, 'solver': 'lbfgs'}\n",
            "0.793    | 0.046   | {'activation': 'relu', 'learning_rate': 'invscaling', 'max_iter': 200, 'solver': 'sgd'}\n",
            "0.820    | 0.140   | {'activation': 'relu', 'learning_rate': 'invscaling', 'max_iter': 2000, 'solver': 'adam'}\n",
            "0.764    | 0.159   | {'activation': 'relu', 'learning_rate': 'invscaling', 'max_iter': 2000, 'solver': 'lbfgs'}\n",
            "0.794    | 0.042   | {'activation': 'relu', 'learning_rate': 'invscaling', 'max_iter': 2000, 'solver': 'sgd'}\n",
            "0.849    | 0.064   | {'activation': 'relu', 'learning_rate': 'invscaling', 'max_iter': 3000, 'solver': 'adam'}\n",
            "0.859    | 0.042   | {'activation': 'relu', 'learning_rate': 'invscaling', 'max_iter': 3000, 'solver': 'lbfgs'}\n",
            "0.817    | 0.040   | {'activation': 'relu', 'learning_rate': 'invscaling', 'max_iter': 3000, 'solver': 'sgd'}\n",
            "0.834    | 0.081   | {'activation': 'identity', 'learning_rate': 'constant', 'max_iter': 200, 'solver': 'adam'}\n",
            "0.775    | 0.080   | {'activation': 'identity', 'learning_rate': 'constant', 'max_iter': 200, 'solver': 'lbfgs'}\n",
            "0.837    | 0.067   | {'activation': 'identity', 'learning_rate': 'constant', 'max_iter': 200, 'solver': 'sgd'}\n",
            "0.802    | 0.112   | {'activation': 'identity', 'learning_rate': 'constant', 'max_iter': 2000, 'solver': 'adam'}\n",
            "0.792    | 0.050   | {'activation': 'identity', 'learning_rate': 'constant', 'max_iter': 2000, 'solver': 'lbfgs'}\n",
            "0.841    | 0.079   | {'activation': 'identity', 'learning_rate': 'constant', 'max_iter': 2000, 'solver': 'sgd'}\n",
            "0.812    | 0.090   | {'activation': 'identity', 'learning_rate': 'constant', 'max_iter': 3000, 'solver': 'adam'}\n",
            "0.806    | 0.067   | {'activation': 'identity', 'learning_rate': 'constant', 'max_iter': 3000, 'solver': 'lbfgs'}\n",
            "0.841    | 0.087   | {'activation': 'identity', 'learning_rate': 'constant', 'max_iter': 3000, 'solver': 'sgd'}\n",
            "0.826    | 0.073   | {'activation': 'identity', 'learning_rate': 'adaptive', 'max_iter': 200, 'solver': 'adam'}\n",
            "0.789    | 0.029   | {'activation': 'identity', 'learning_rate': 'adaptive', 'max_iter': 200, 'solver': 'lbfgs'}\n",
            "0.839    | 0.084   | {'activation': 'identity', 'learning_rate': 'adaptive', 'max_iter': 200, 'solver': 'sgd'}\n",
            "0.795    | 0.169   | {'activation': 'identity', 'learning_rate': 'adaptive', 'max_iter': 2000, 'solver': 'adam'}\n",
            "0.816    | 0.048   | {'activation': 'identity', 'learning_rate': 'adaptive', 'max_iter': 2000, 'solver': 'lbfgs'}\n",
            "0.841    | 0.076   | {'activation': 'identity', 'learning_rate': 'adaptive', 'max_iter': 2000, 'solver': 'sgd'}\n",
            "0.794    | 0.102   | {'activation': 'identity', 'learning_rate': 'adaptive', 'max_iter': 3000, 'solver': 'adam'}\n",
            "0.777    | 0.035   | {'activation': 'identity', 'learning_rate': 'adaptive', 'max_iter': 3000, 'solver': 'lbfgs'}\n",
            "0.839    | 0.085   | {'activation': 'identity', 'learning_rate': 'adaptive', 'max_iter': 3000, 'solver': 'sgd'}\n",
            "0.824    | 0.092   | {'activation': 'identity', 'learning_rate': 'invscaling', 'max_iter': 200, 'solver': 'adam'}\n",
            "0.824    | 0.059   | {'activation': 'identity', 'learning_rate': 'invscaling', 'max_iter': 200, 'solver': 'lbfgs'}\n",
            "0.824    | 0.106   | {'activation': 'identity', 'learning_rate': 'invscaling', 'max_iter': 200, 'solver': 'sgd'}\n",
            "0.837    | 0.059   | {'activation': 'identity', 'learning_rate': 'invscaling', 'max_iter': 2000, 'solver': 'adam'}\n",
            "0.792    | 0.034   | {'activation': 'identity', 'learning_rate': 'invscaling', 'max_iter': 2000, 'solver': 'lbfgs'}\n",
            "0.789    | 0.173   | {'activation': 'identity', 'learning_rate': 'invscaling', 'max_iter': 2000, 'solver': 'sgd'}\n",
            "0.816    | 0.072   | {'activation': 'identity', 'learning_rate': 'invscaling', 'max_iter': 3000, 'solver': 'adam'}\n",
            "0.809    | 0.052   | {'activation': 'identity', 'learning_rate': 'invscaling', 'max_iter': 3000, 'solver': 'lbfgs'}\n",
            "0.814    | 0.138   | {'activation': 'identity', 'learning_rate': 'invscaling', 'max_iter': 3000, 'solver': 'sgd'}\n",
            "0.859    | 0.091   | {'activation': 'logistic', 'learning_rate': 'constant', 'max_iter': 200, 'solver': 'adam'}\n",
            "0.835    | 0.113   | {'activation': 'logistic', 'learning_rate': 'constant', 'max_iter': 200, 'solver': 'lbfgs'}\n",
            "0.854    | 0.068   | {'activation': 'logistic', 'learning_rate': 'constant', 'max_iter': 200, 'solver': 'sgd'}\n",
            "0.845    | 0.093   | {'activation': 'logistic', 'learning_rate': 'constant', 'max_iter': 2000, 'solver': 'adam'}\n",
            "0.835    | 0.110   | {'activation': 'logistic', 'learning_rate': 'constant', 'max_iter': 2000, 'solver': 'lbfgs'}\n",
            "0.861    | 0.069   | {'activation': 'logistic', 'learning_rate': 'constant', 'max_iter': 2000, 'solver': 'sgd'}\n",
            "0.860    | 0.068   | {'activation': 'logistic', 'learning_rate': 'constant', 'max_iter': 3000, 'solver': 'adam'}\n",
            "0.795    | 0.143   | {'activation': 'logistic', 'learning_rate': 'constant', 'max_iter': 3000, 'solver': 'lbfgs'}\n",
            "0.858    | 0.087   | {'activation': 'logistic', 'learning_rate': 'constant', 'max_iter': 3000, 'solver': 'sgd'}\n",
            "0.844    | 0.109   | {'activation': 'logistic', 'learning_rate': 'adaptive', 'max_iter': 200, 'solver': 'adam'}\n",
            "0.838    | 0.105   | {'activation': 'logistic', 'learning_rate': 'adaptive', 'max_iter': 200, 'solver': 'lbfgs'}\n",
            "0.852    | 0.072   | {'activation': 'logistic', 'learning_rate': 'adaptive', 'max_iter': 200, 'solver': 'sgd'}\n",
            "0.858    | 0.085   | {'activation': 'logistic', 'learning_rate': 'adaptive', 'max_iter': 2000, 'solver': 'adam'}\n",
            "0.826    | 0.103   | {'activation': 'logistic', 'learning_rate': 'adaptive', 'max_iter': 2000, 'solver': 'lbfgs'}\n",
            "0.851    | 0.090   | {'activation': 'logistic', 'learning_rate': 'adaptive', 'max_iter': 2000, 'solver': 'sgd'}\n",
            "0.839    | 0.122   | {'activation': 'logistic', 'learning_rate': 'adaptive', 'max_iter': 3000, 'solver': 'adam'}\n",
            "0.819    | 0.098   | {'activation': 'logistic', 'learning_rate': 'adaptive', 'max_iter': 3000, 'solver': 'lbfgs'}\n",
            "0.853    | 0.094   | {'activation': 'logistic', 'learning_rate': 'adaptive', 'max_iter': 3000, 'solver': 'sgd'}\n",
            "0.869    | 0.071   | {'activation': 'logistic', 'learning_rate': 'invscaling', 'max_iter': 200, 'solver': 'adam'}\n",
            "0.836    | 0.108   | {'activation': 'logistic', 'learning_rate': 'invscaling', 'max_iter': 200, 'solver': 'lbfgs'}\n",
            "0.778    | 0.004   | {'activation': 'logistic', 'learning_rate': 'invscaling', 'max_iter': 200, 'solver': 'sgd'}\n",
            "0.854    | 0.099   | {'activation': 'logistic', 'learning_rate': 'invscaling', 'max_iter': 2000, 'solver': 'adam'}\n",
            "0.829    | 0.120   | {'activation': 'logistic', 'learning_rate': 'invscaling', 'max_iter': 2000, 'solver': 'lbfgs'}\n",
            "0.778    | 0.004   | {'activation': 'logistic', 'learning_rate': 'invscaling', 'max_iter': 2000, 'solver': 'sgd'}\n",
            "0.844    | 0.109   | {'activation': 'logistic', 'learning_rate': 'invscaling', 'max_iter': 3000, 'solver': 'adam'}\n",
            "0.817    | 0.124   | {'activation': 'logistic', 'learning_rate': 'invscaling', 'max_iter': 3000, 'solver': 'lbfgs'}\n",
            "0.778    | 0.004   | {'activation': 'logistic', 'learning_rate': 'invscaling', 'max_iter': 3000, 'solver': 'sgd'}\n",
            "0.841    | 0.120   | {'activation': 'tanh', 'learning_rate': 'constant', 'max_iter': 200, 'solver': 'adam'}\n",
            "0.844    | 0.091   | {'activation': 'tanh', 'learning_rate': 'constant', 'max_iter': 200, 'solver': 'lbfgs'}\n",
            "0.835    | 0.119   | {'activation': 'tanh', 'learning_rate': 'constant', 'max_iter': 200, 'solver': 'sgd'}\n",
            "0.843    | 0.121   | {'activation': 'tanh', 'learning_rate': 'constant', 'max_iter': 2000, 'solver': 'adam'}\n",
            "0.846    | 0.107   | {'activation': 'tanh', 'learning_rate': 'constant', 'max_iter': 2000, 'solver': 'lbfgs'}\n",
            "0.833    | 0.071   | {'activation': 'tanh', 'learning_rate': 'constant', 'max_iter': 2000, 'solver': 'sgd'}\n",
            "0.833    | 0.110   | {'activation': 'tanh', 'learning_rate': 'constant', 'max_iter': 3000, 'solver': 'adam'}\n",
            "0.818    | 0.122   | {'activation': 'tanh', 'learning_rate': 'constant', 'max_iter': 3000, 'solver': 'lbfgs'}\n",
            "0.837    | 0.100   | {'activation': 'tanh', 'learning_rate': 'constant', 'max_iter': 3000, 'solver': 'sgd'}\n",
            "0.844    | 0.098   | {'activation': 'tanh', 'learning_rate': 'adaptive', 'max_iter': 200, 'solver': 'adam'}\n",
            "0.839    | 0.081   | {'activation': 'tanh', 'learning_rate': 'adaptive', 'max_iter': 200, 'solver': 'lbfgs'}\n",
            "0.847    | 0.078   | {'activation': 'tanh', 'learning_rate': 'adaptive', 'max_iter': 200, 'solver': 'sgd'}\n",
            "0.844    | 0.102   | {'activation': 'tanh', 'learning_rate': 'adaptive', 'max_iter': 2000, 'solver': 'adam'}\n",
            "0.848    | 0.100   | {'activation': 'tanh', 'learning_rate': 'adaptive', 'max_iter': 2000, 'solver': 'lbfgs'}\n",
            "0.843    | 0.101   | {'activation': 'tanh', 'learning_rate': 'adaptive', 'max_iter': 2000, 'solver': 'sgd'}\n",
            "0.851    | 0.082   | {'activation': 'tanh', 'learning_rate': 'adaptive', 'max_iter': 3000, 'solver': 'adam'}\n",
            "0.824    | 0.100   | {'activation': 'tanh', 'learning_rate': 'adaptive', 'max_iter': 3000, 'solver': 'lbfgs'}\n",
            "0.849    | 0.084   | {'activation': 'tanh', 'learning_rate': 'adaptive', 'max_iter': 3000, 'solver': 'sgd'}\n",
            "0.856    | 0.097   | {'activation': 'tanh', 'learning_rate': 'invscaling', 'max_iter': 200, 'solver': 'adam'}\n",
            "0.838    | 0.111   | {'activation': 'tanh', 'learning_rate': 'invscaling', 'max_iter': 200, 'solver': 'lbfgs'}\n",
            "0.784    | 0.014   | {'activation': 'tanh', 'learning_rate': 'invscaling', 'max_iter': 200, 'solver': 'sgd'}\n",
            "0.844    | 0.096   | {'activation': 'tanh', 'learning_rate': 'invscaling', 'max_iter': 2000, 'solver': 'adam'}\n",
            "0.840    | 0.087   | {'activation': 'tanh', 'learning_rate': 'invscaling', 'max_iter': 2000, 'solver': 'lbfgs'}\n",
            "0.778    | 0.004   | {'activation': 'tanh', 'learning_rate': 'invscaling', 'max_iter': 2000, 'solver': 'sgd'}\n",
            "0.847    | 0.097   | {'activation': 'tanh', 'learning_rate': 'invscaling', 'max_iter': 3000, 'solver': 'adam'}\n",
            "0.815    | 0.121   | {'activation': 'tanh', 'learning_rate': 'invscaling', 'max_iter': 3000, 'solver': 'lbfgs'}\n",
            "0.782    | 0.007   | {'activation': 'tanh', 'learning_rate': 'invscaling', 'max_iter': 3000, 'solver': 'sgd'}\n"
          ]
        }
      ],
      "source": [
        "from sklearn.model_selection import GridSearchCV\n",
        "\n",
        "mlp_gs = MLPClassifier(max_iter=3000)\n",
        "parameter_space = {\n",
        "    'activation': ['relu', 'identity', 'logistic', 'tanh'],\n",
        "    'solver': ['adam', 'lbfgs', 'sgd'],\n",
        "    'learning_rate': ['constant','adaptive', 'invscaling'],\n",
        "    'max_iter': [200, 2000, 3000],\n",
        "}\n",
        "\n",
        "#n_jobs=-1 , -1 sert à utiliser tous les cœurs de processeur disponibles.\n",
        "#cv = 10 est pour la validation croisée, ici cela signifie 10 fois la validation croisée stratifiée (K-fold)\n",
        "clf = GridSearchCV(mlp_gs, parameter_space, n_jobs=-1, cv=10)\n",
        "\n",
        "#Apprentissage / Entrainement de modèle\n",
        "clf.fit(X, y)\n",
        "\n",
        "#Affichage des scores pour toutes les combinaisons (modèles) possibles \n",
        "means = clf.cv_results_['mean_test_score']\n",
        "stds = clf.cv_results_['std_test_score']\n",
        "\n",
        "i=0\n",
        "for mean, std, params in zip(means, stds, clf.cv_results_['params']):\n",
        "    i=i+1    \n",
        "print(\"Le nombre de combinaisons (modèles) possible est : %r \" % (i)) \n",
        "print(\" \\n \")\n",
        "print(\"|  Mean  |   Std   |  Combinaison / Modèle \")\n",
        "print(\"-------------------------------------------------------------------------------------------------------------------\")\n",
        "\n",
        "for mean, std, params in zip(means, stds, clf.cv_results_['params']):\n",
        "    print(\"%0.3f    | %0.03f   | %r\" % (mean, std, params))"
      ]
    },
    {
      "cell_type": "markdown",
      "metadata": {
        "id": "JjlayxHmc1Dm"
      },
      "source": [
        "#### 11. Affichage du meilleur modèle (hyperparamètres optimaux parmi les valeurs données). "
      ]
    },
    {
      "cell_type": "code",
      "execution_count": 13,
      "metadata": {
        "colab": {
          "base_uri": "https://localhost:8080/"
        },
        "id": "7ykoM-HIc1Dm",
        "outputId": "525ec744-4d37-45ff-f4f0-cc31cbf56226"
      },
      "outputs": [
        {
          "output_type": "stream",
          "name": "stdout",
          "text": [
            "Meilleurs paramètres trouvés : \n",
            " {'activation': 'logistic', 'learning_rate': 'invscaling', 'max_iter': 200, 'solver': 'adam'}\n",
            "Meilleurs paramètres trouvés : \n",
            " MLPClassifier(activation='logistic', learning_rate='invscaling')\n"
          ]
        }
      ],
      "source": [
        "print('Meilleurs paramètres trouvés : \\n', clf.best_params_)\n",
        "print('Meilleurs paramètres trouvés : \\n', clf.best_estimator_)"
      ]
    },
    {
      "cell_type": "markdown",
      "metadata": {
        "id": "UGWVwAmcc1Dn"
      },
      "source": [
        "#### 12. Métrique de classification (sur le meilleur modèle obtenu)"
      ]
    },
    {
      "cell_type": "code",
      "execution_count": 26,
      "metadata": {
        "id": "8EF6Mg5Kc1Dn",
        "colab": {
          "base_uri": "https://localhost:8080/"
        },
        "outputId": "bf1329f7-7080-4a8e-9db1-05780b2edff9"
      },
      "outputs": [
        {
          "output_type": "stream",
          "name": "stdout",
          "text": [
            "Score final :  0.9\n"
          ]
        }
      ],
      "source": [
        "print (\"Score final : \", round(clf.score(X, y),2))"
      ]
    }
  ],
  "metadata": {
    "kernelspec": {
      "display_name": "Python 3",
      "language": "python",
      "name": "python3"
    },
    "language_info": {
      "codemirror_mode": {
        "name": "ipython",
        "version": 3
      },
      "file_extension": ".py",
      "mimetype": "text/x-python",
      "name": "python",
      "nbconvert_exporter": "python",
      "pygments_lexer": "ipython3",
      "version": "3.7.4"
    },
    "colab": {
      "name": "Classification_Etape5__.ipynb",
      "provenance": [],
      "collapsed_sections": []
    }
  },
  "nbformat": 4,
  "nbformat_minor": 0
}