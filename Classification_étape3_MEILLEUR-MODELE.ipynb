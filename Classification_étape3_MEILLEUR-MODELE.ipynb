{
 "cells": [
  {
   "cell_type": "code",
   "execution_count": 77,
   "metadata": {},
   "outputs": [],
   "source": [
    "#CLASSIFICATION AVEC REGLAGE DES PARAMETRES"
   ]
  },
  {
   "cell_type": "code",
   "execution_count": 78,
   "metadata": {},
   "outputs": [],
   "source": [
    "#Bibliothèques\n",
    "from sklearn import datasets\n",
    "import pandas as pd\n",
    "from sklearn.model_selection import train_test_split\n",
    "from sklearn.neural_network import MLPClassifier\n",
    "from sklearn import preprocessing\n",
    "from sklearn.metrics import zero_one_loss, accuracy_score,precision_score, recall_score, f1_score, confusion_matrix"
   ]
  },
  {
   "cell_type": "code",
   "execution_count": 79,
   "metadata": {},
   "outputs": [],
   "source": [
    "#Télécharchement du Dataset \"breast_cancer\"\n",
    "data = datasets.load_breast_cancer()"
   ]
  },
  {
   "cell_type": "code",
   "execution_count": 80,
   "metadata": {},
   "outputs": [
    {
     "name": "stdout",
     "output_type": "stream",
     "text": [
      "dict_keys(['data', 'target', 'target_names', 'DESCR', 'feature_names', 'filename'])\n"
     ]
    }
   ],
   "source": [
    "#Affichage des clés du Dataset\n",
    "print(data.keys())"
   ]
  },
  {
   "cell_type": "code",
   "execution_count": 81,
   "metadata": {},
   "outputs": [
    {
     "name": "stdout",
     "output_type": "stream",
     "text": [
      "['malignant' 'benign']\n",
      "(569,)\n"
     ]
    }
   ],
   "source": [
    "#Affichage de l'Output / Target et nombre d'observations\n",
    "print(data.target_names)\n",
    "print(data.target.shape)"
   ]
  },
  {
   "cell_type": "code",
   "execution_count": 82,
   "metadata": {},
   "outputs": [
    {
     "name": "stdout",
     "output_type": "stream",
     "text": [
      "['mean radius' 'mean texture' 'mean perimeter' 'mean area'\n",
      " 'mean smoothness' 'mean compactness' 'mean concavity'\n",
      " 'mean concave points' 'mean symmetry' 'mean fractal dimension'\n",
      " 'radius error' 'texture error' 'perimeter error' 'area error'\n",
      " 'smoothness error' 'compactness error' 'concavity error'\n",
      " 'concave points error' 'symmetry error' 'fractal dimension error'\n",
      " 'worst radius' 'worst texture' 'worst perimeter' 'worst area'\n",
      " 'worst smoothness' 'worst compactness' 'worst concavity'\n",
      " 'worst concave points' 'worst symmetry' 'worst fractal dimension']\n"
     ]
    }
   ],
   "source": [
    "#Affichage des Inputs / Features\n",
    "print(data.feature_names)"
   ]
  },
  {
   "cell_type": "code",
   "execution_count": 84,
   "metadata": {},
   "outputs": [
    {
     "name": "stdout",
     "output_type": "stream",
     "text": [
      "(455, 30)\n",
      "(114, 30)\n"
     ]
    }
   ],
   "source": [
    "#80% TRAINING, 20% TEST\n",
    "df = pd.DataFrame(data.data, columns=data.feature_names)\n",
    "df['target'] = data.target\n",
    "X = data.data\n",
    "y = data.target\n",
    "X_train, X_test, y_train, y_test = train_test_split(X, y, test_size=0.20, shuffle=True)\n",
    "print(X_train.shape); print(X_test.shape)"
   ]
  },
  {
   "cell_type": "code",
   "execution_count": 85,
   "metadata": {},
   "outputs": [],
   "source": [
    "#Normalisation\n",
    "scaler=preprocessing.StandardScaler().fit(X_train)\n",
    "X_train=scaler.transform(X_train)\n",
    "X_test=scaler.transform(X_test)"
   ]
  },
  {
   "cell_type": "code",
   "execution_count": 102,
   "metadata": {},
   "outputs": [
    {
     "name": "stderr",
     "output_type": "stream",
     "text": [
      "C:\\Users\\HP\\Anaconda3\\lib\\site-packages\\sklearn\\model_selection\\_search.py:813: DeprecationWarning: The default of the `iid` parameter will change from True to False in version 0.22 and will be removed in 0.24. This will change numeric results when test-set sizes are unequal.\n",
      "  DeprecationWarning)\n"
     ]
    },
    {
     "data": {
      "text/plain": [
       "GridSearchCV(cv=10, error_score='raise-deprecating',\n",
       "             estimator=MLPClassifier(activation='relu', alpha=0.0001,\n",
       "                                     batch_size='auto', beta_1=0.9,\n",
       "                                     beta_2=0.999, early_stopping=False,\n",
       "                                     epsilon=1e-08, hidden_layer_sizes=(100,),\n",
       "                                     learning_rate='constant',\n",
       "                                     learning_rate_init=0.001, max_iter=3000,\n",
       "                                     momentum=0.9, n_iter_no_change=10,\n",
       "                                     nesterovs_momentum=True, power_t=0.5,\n",
       "                                     random_s...\n",
       "                         'hidden_layer_sizes': [(100,)],\n",
       "                         'learning_rate': ['constant', 'adaptive',\n",
       "                                           'invscaling'],\n",
       "                         'learning_rate_init': [0.001], 'max_iter': [3000],\n",
       "                         'momentum': [0.9], 'n_iter_no_change': [10],\n",
       "                         'power_t': [0.5], 'solver': ['adam', 'lbfgs', 'sgd'],\n",
       "                         'tol': [0.0001], 'validation_fraction': [0.1],\n",
       "                         'warm_start': ['False']},\n",
       "             pre_dispatch='2*n_jobs', refit=True, return_train_score=False,\n",
       "             scoring=None, verbose=0)"
      ]
     },
     "execution_count": 102,
     "metadata": {},
     "output_type": "execute_result"
    }
   ],
   "source": [
    "#Utilisation de la méthode GridSearchCV qui trouve facilement les hyperparamètres optimaux parmi les valeurs données.\n",
    "from sklearn.model_selection import GridSearchCV\n",
    "\n",
    "mlp_gs = MLPClassifier(max_iter=3000)\n",
    "parameter_space = {\n",
    "    'hidden_layer_sizes': [(100,)],\n",
    "    #'hidden_layer_sizes': [(100,),(200,),(300,),],\n",
    "    'activation': ['relu', 'identity', 'logistic', 'tanh'],\n",
    "    #'activation': ['relu'],\n",
    "    'solver': ['adam', 'lbfgs', 'sgd'],\n",
    "    #'solver': ['adam'],\n",
    "    'alpha': [0.0001],\n",
    "    'batch_size': ['auto'], \n",
    "    'learning_rate': ['constant','adaptive', 'invscaling'],\n",
    "    #'learning_rate': ['constant'],\n",
    "    'learning_rate_init': [0.001],\n",
    "    'power_t': [0.5],\n",
    "    'max_iter': [3000], \n",
    "    #'shuffle': ['True'], \n",
    "    #'random_state': ['None'], \n",
    "    'tol': [0.0001], \n",
    "    #'verbose': ['False'],\n",
    "    'warm_start': ['False'], \n",
    "    'momentum': [0.9], \n",
    "    #'nesterovs_momentum': ['True'], \n",
    "    #'early_stopping': ['False'],\n",
    "    'validation_fraction': [0.1], \n",
    "    'beta_1': [0.9], \n",
    "    'beta_2': [0.999], \n",
    "    'epsilon': [1e-08], \n",
    "    'n_iter_no_change': [10], \n",
    "\n",
    "}\n",
    "\n",
    "#Apprentissage / Entrainement de modèle\n",
    "#n_jobs=-1 , -1 sert à utiliser tous les cœurs de processeur disponibles.\n",
    "#cv = 10 est pour la validation croisée, ici cela signifie 10 fois la validation croisée stratifiée (K-fold)\n",
    "clf = GridSearchCV(mlp_gs, parameter_space, n_jobs=-1, cv=10)\n",
    "clf.fit(X, y) # X is train samples and y is the corresponding labels"
   ]
  },
  {
   "cell_type": "code",
   "execution_count": 103,
   "metadata": {},
   "outputs": [
    {
     "name": "stdout",
     "output_type": "stream",
     "text": [
      "Le nombre de combinaisons (modèles) possible est : 36 \n",
      " \n",
      " \n",
      "|  Mean  |   Std   |  Combinaison / Modèle \n",
      "-------------------------------------------------------------------------------------------------------------------\n",
      "0.931    | 0.034   | {'activation': 'relu', 'alpha': 0.0001, 'batch_size': 'auto', 'beta_1': 0.9, 'beta_2': 0.999, 'epsilon': 1e-08, 'hidden_layer_sizes': (100,), 'learning_rate': 'constant', 'learning_rate_init': 0.001, 'max_iter': 3000, 'momentum': 0.9, 'n_iter_no_change': 10, 'power_t': 0.5, 'solver': 'adam', 'tol': 0.0001, 'validation_fraction': 0.1, 'warm_start': 'False'}\n",
      "0.411    | 0.083   | {'activation': 'relu', 'alpha': 0.0001, 'batch_size': 'auto', 'beta_1': 0.9, 'beta_2': 0.999, 'epsilon': 1e-08, 'hidden_layer_sizes': (100,), 'learning_rate': 'constant', 'learning_rate_init': 0.001, 'max_iter': 3000, 'momentum': 0.9, 'n_iter_no_change': 10, 'power_t': 0.5, 'solver': 'lbfgs', 'tol': 0.0001, 'validation_fraction': 0.1, 'warm_start': 'False'}\n",
      "0.740    | 0.175   | {'activation': 'relu', 'alpha': 0.0001, 'batch_size': 'auto', 'beta_1': 0.9, 'beta_2': 0.999, 'epsilon': 1e-08, 'hidden_layer_sizes': (100,), 'learning_rate': 'constant', 'learning_rate_init': 0.001, 'max_iter': 3000, 'momentum': 0.9, 'n_iter_no_change': 10, 'power_t': 0.5, 'solver': 'sgd', 'tol': 0.0001, 'validation_fraction': 0.1, 'warm_start': 'False'}\n",
      "0.877    | 0.172   | {'activation': 'relu', 'alpha': 0.0001, 'batch_size': 'auto', 'beta_1': 0.9, 'beta_2': 0.999, 'epsilon': 1e-08, 'hidden_layer_sizes': (100,), 'learning_rate': 'adaptive', 'learning_rate_init': 0.001, 'max_iter': 3000, 'momentum': 0.9, 'n_iter_no_change': 10, 'power_t': 0.5, 'solver': 'adam', 'tol': 0.0001, 'validation_fraction': 0.1, 'warm_start': 'False'}\n",
      "0.478    | 0.214   | {'activation': 'relu', 'alpha': 0.0001, 'batch_size': 'auto', 'beta_1': 0.9, 'beta_2': 0.999, 'epsilon': 1e-08, 'hidden_layer_sizes': (100,), 'learning_rate': 'adaptive', 'learning_rate_init': 0.001, 'max_iter': 3000, 'momentum': 0.9, 'n_iter_no_change': 10, 'power_t': 0.5, 'solver': 'lbfgs', 'tol': 0.0001, 'validation_fraction': 0.1, 'warm_start': 'False'}\n",
      "0.828    | 0.135   | {'activation': 'relu', 'alpha': 0.0001, 'batch_size': 'auto', 'beta_1': 0.9, 'beta_2': 0.999, 'epsilon': 1e-08, 'hidden_layer_sizes': (100,), 'learning_rate': 'adaptive', 'learning_rate_init': 0.001, 'max_iter': 3000, 'momentum': 0.9, 'n_iter_no_change': 10, 'power_t': 0.5, 'solver': 'sgd', 'tol': 0.0001, 'validation_fraction': 0.1, 'warm_start': 'False'}\n",
      "0.928    | 0.032   | {'activation': 'relu', 'alpha': 0.0001, 'batch_size': 'auto', 'beta_1': 0.9, 'beta_2': 0.999, 'epsilon': 1e-08, 'hidden_layer_sizes': (100,), 'learning_rate': 'invscaling', 'learning_rate_init': 0.001, 'max_iter': 3000, 'momentum': 0.9, 'n_iter_no_change': 10, 'power_t': 0.5, 'solver': 'adam', 'tol': 0.0001, 'validation_fraction': 0.1, 'warm_start': 'False'}\n",
      "0.452    | 0.159   | {'activation': 'relu', 'alpha': 0.0001, 'batch_size': 'auto', 'beta_1': 0.9, 'beta_2': 0.999, 'epsilon': 1e-08, 'hidden_layer_sizes': (100,), 'learning_rate': 'invscaling', 'learning_rate_init': 0.001, 'max_iter': 3000, 'momentum': 0.9, 'n_iter_no_change': 10, 'power_t': 0.5, 'solver': 'lbfgs', 'tol': 0.0001, 'validation_fraction': 0.1, 'warm_start': 'False'}\n",
      "0.740    | 0.248   | {'activation': 'relu', 'alpha': 0.0001, 'batch_size': 'auto', 'beta_1': 0.9, 'beta_2': 0.999, 'epsilon': 1e-08, 'hidden_layer_sizes': (100,), 'learning_rate': 'invscaling', 'learning_rate_init': 0.001, 'max_iter': 3000, 'momentum': 0.9, 'n_iter_no_change': 10, 'power_t': 0.5, 'solver': 'sgd', 'tol': 0.0001, 'validation_fraction': 0.1, 'warm_start': 'False'}\n",
      "0.880    | 0.065   | {'activation': 'identity', 'alpha': 0.0001, 'batch_size': 'auto', 'beta_1': 0.9, 'beta_2': 0.999, 'epsilon': 1e-08, 'hidden_layer_sizes': (100,), 'learning_rate': 'constant', 'learning_rate_init': 0.001, 'max_iter': 3000, 'momentum': 0.9, 'n_iter_no_change': 10, 'power_t': 0.5, 'solver': 'adam', 'tol': 0.0001, 'validation_fraction': 0.1, 'warm_start': 'False'}\n",
      "0.380    | 0.023   | {'activation': 'identity', 'alpha': 0.0001, 'batch_size': 'auto', 'beta_1': 0.9, 'beta_2': 0.999, 'epsilon': 1e-08, 'hidden_layer_sizes': (100,), 'learning_rate': 'constant', 'learning_rate_init': 0.001, 'max_iter': 3000, 'momentum': 0.9, 'n_iter_no_change': 10, 'power_t': 0.5, 'solver': 'lbfgs', 'tol': 0.0001, 'validation_fraction': 0.1, 'warm_start': 'False'}\n",
      "0.807    | 0.173   | {'activation': 'identity', 'alpha': 0.0001, 'batch_size': 'auto', 'beta_1': 0.9, 'beta_2': 0.999, 'epsilon': 1e-08, 'hidden_layer_sizes': (100,), 'learning_rate': 'constant', 'learning_rate_init': 0.001, 'max_iter': 3000, 'momentum': 0.9, 'n_iter_no_change': 10, 'power_t': 0.5, 'solver': 'sgd', 'tol': 0.0001, 'validation_fraction': 0.1, 'warm_start': 'False'}\n",
      "0.933    | 0.037   | {'activation': 'identity', 'alpha': 0.0001, 'batch_size': 'auto', 'beta_1': 0.9, 'beta_2': 0.999, 'epsilon': 1e-08, 'hidden_layer_sizes': (100,), 'learning_rate': 'adaptive', 'learning_rate_init': 0.001, 'max_iter': 3000, 'momentum': 0.9, 'n_iter_no_change': 10, 'power_t': 0.5, 'solver': 'adam', 'tol': 0.0001, 'validation_fraction': 0.1, 'warm_start': 'False'}\n",
      "0.373    | 0.004   | {'activation': 'identity', 'alpha': 0.0001, 'batch_size': 'auto', 'beta_1': 0.9, 'beta_2': 0.999, 'epsilon': 1e-08, 'hidden_layer_sizes': (100,), 'learning_rate': 'adaptive', 'learning_rate_init': 0.001, 'max_iter': 3000, 'momentum': 0.9, 'n_iter_no_change': 10, 'power_t': 0.5, 'solver': 'lbfgs', 'tol': 0.0001, 'validation_fraction': 0.1, 'warm_start': 'False'}\n",
      "0.931    | 0.028   | {'activation': 'identity', 'alpha': 0.0001, 'batch_size': 'auto', 'beta_1': 0.9, 'beta_2': 0.999, 'epsilon': 1e-08, 'hidden_layer_sizes': (100,), 'learning_rate': 'adaptive', 'learning_rate_init': 0.001, 'max_iter': 3000, 'momentum': 0.9, 'n_iter_no_change': 10, 'power_t': 0.5, 'solver': 'sgd', 'tol': 0.0001, 'validation_fraction': 0.1, 'warm_start': 'False'}\n",
      "0.933    | 0.021   | {'activation': 'identity', 'alpha': 0.0001, 'batch_size': 'auto', 'beta_1': 0.9, 'beta_2': 0.999, 'epsilon': 1e-08, 'hidden_layer_sizes': (100,), 'learning_rate': 'invscaling', 'learning_rate_init': 0.001, 'max_iter': 3000, 'momentum': 0.9, 'n_iter_no_change': 10, 'power_t': 0.5, 'solver': 'adam', 'tol': 0.0001, 'validation_fraction': 0.1, 'warm_start': 'False'}\n",
      "0.381    | 0.034   | {'activation': 'identity', 'alpha': 0.0001, 'batch_size': 'auto', 'beta_1': 0.9, 'beta_2': 0.999, 'epsilon': 1e-08, 'hidden_layer_sizes': (100,), 'learning_rate': 'invscaling', 'learning_rate_init': 0.001, 'max_iter': 3000, 'momentum': 0.9, 'n_iter_no_change': 10, 'power_t': 0.5, 'solver': 'lbfgs', 'tol': 0.0001, 'validation_fraction': 0.1, 'warm_start': 'False'}\n",
      "0.907    | 0.029   | {'activation': 'identity', 'alpha': 0.0001, 'batch_size': 'auto', 'beta_1': 0.9, 'beta_2': 0.999, 'epsilon': 1e-08, 'hidden_layer_sizes': (100,), 'learning_rate': 'invscaling', 'learning_rate_init': 0.001, 'max_iter': 3000, 'momentum': 0.9, 'n_iter_no_change': 10, 'power_t': 0.5, 'solver': 'sgd', 'tol': 0.0001, 'validation_fraction': 0.1, 'warm_start': 'False'}\n",
      "0.938    | 0.024   | {'activation': 'logistic', 'alpha': 0.0001, 'batch_size': 'auto', 'beta_1': 0.9, 'beta_2': 0.999, 'epsilon': 1e-08, 'hidden_layer_sizes': (100,), 'learning_rate': 'constant', 'learning_rate_init': 0.001, 'max_iter': 3000, 'momentum': 0.9, 'n_iter_no_change': 10, 'power_t': 0.5, 'solver': 'adam', 'tol': 0.0001, 'validation_fraction': 0.1, 'warm_start': 'False'}\n",
      "0.949    | 0.024   | {'activation': 'logistic', 'alpha': 0.0001, 'batch_size': 'auto', 'beta_1': 0.9, 'beta_2': 0.999, 'epsilon': 1e-08, 'hidden_layer_sizes': (100,), 'learning_rate': 'constant', 'learning_rate_init': 0.001, 'max_iter': 3000, 'momentum': 0.9, 'n_iter_no_change': 10, 'power_t': 0.5, 'solver': 'lbfgs', 'tol': 0.0001, 'validation_fraction': 0.1, 'warm_start': 'False'}\n",
      "0.914    | 0.026   | {'activation': 'logistic', 'alpha': 0.0001, 'batch_size': 'auto', 'beta_1': 0.9, 'beta_2': 0.999, 'epsilon': 1e-08, 'hidden_layer_sizes': (100,), 'learning_rate': 'constant', 'learning_rate_init': 0.001, 'max_iter': 3000, 'momentum': 0.9, 'n_iter_no_change': 10, 'power_t': 0.5, 'solver': 'sgd', 'tol': 0.0001, 'validation_fraction': 0.1, 'warm_start': 'False'}\n",
      "0.937    | 0.026   | {'activation': 'logistic', 'alpha': 0.0001, 'batch_size': 'auto', 'beta_1': 0.9, 'beta_2': 0.999, 'epsilon': 1e-08, 'hidden_layer_sizes': (100,), 'learning_rate': 'adaptive', 'learning_rate_init': 0.001, 'max_iter': 3000, 'momentum': 0.9, 'n_iter_no_change': 10, 'power_t': 0.5, 'solver': 'adam', 'tol': 0.0001, 'validation_fraction': 0.1, 'warm_start': 'False'}\n",
      "0.942    | 0.016   | {'activation': 'logistic', 'alpha': 0.0001, 'batch_size': 'auto', 'beta_1': 0.9, 'beta_2': 0.999, 'epsilon': 1e-08, 'hidden_layer_sizes': (100,), 'learning_rate': 'adaptive', 'learning_rate_init': 0.001, 'max_iter': 3000, 'momentum': 0.9, 'n_iter_no_change': 10, 'power_t': 0.5, 'solver': 'lbfgs', 'tol': 0.0001, 'validation_fraction': 0.1, 'warm_start': 'False'}\n",
      "0.916    | 0.027   | {'activation': 'logistic', 'alpha': 0.0001, 'batch_size': 'auto', 'beta_1': 0.9, 'beta_2': 0.999, 'epsilon': 1e-08, 'hidden_layer_sizes': (100,), 'learning_rate': 'adaptive', 'learning_rate_init': 0.001, 'max_iter': 3000, 'momentum': 0.9, 'n_iter_no_change': 10, 'power_t': 0.5, 'solver': 'sgd', 'tol': 0.0001, 'validation_fraction': 0.1, 'warm_start': 'False'}\n",
      "0.933    | 0.026   | {'activation': 'logistic', 'alpha': 0.0001, 'batch_size': 'auto', 'beta_1': 0.9, 'beta_2': 0.999, 'epsilon': 1e-08, 'hidden_layer_sizes': (100,), 'learning_rate': 'invscaling', 'learning_rate_init': 0.001, 'max_iter': 3000, 'momentum': 0.9, 'n_iter_no_change': 10, 'power_t': 0.5, 'solver': 'adam', 'tol': 0.0001, 'validation_fraction': 0.1, 'warm_start': 'False'}\n",
      "0.931    | 0.032   | {'activation': 'logistic', 'alpha': 0.0001, 'batch_size': 'auto', 'beta_1': 0.9, 'beta_2': 0.999, 'epsilon': 1e-08, 'hidden_layer_sizes': (100,), 'learning_rate': 'invscaling', 'learning_rate_init': 0.001, 'max_iter': 3000, 'momentum': 0.9, 'n_iter_no_change': 10, 'power_t': 0.5, 'solver': 'lbfgs', 'tol': 0.0001, 'validation_fraction': 0.1, 'warm_start': 'False'}\n",
      "0.636    | 0.105   | {'activation': 'logistic', 'alpha': 0.0001, 'batch_size': 'auto', 'beta_1': 0.9, 'beta_2': 0.999, 'epsilon': 1e-08, 'hidden_layer_sizes': (100,), 'learning_rate': 'invscaling', 'learning_rate_init': 0.001, 'max_iter': 3000, 'momentum': 0.9, 'n_iter_no_change': 10, 'power_t': 0.5, 'solver': 'sgd', 'tol': 0.0001, 'validation_fraction': 0.1, 'warm_start': 'False'}\n",
      "0.937    | 0.028   | {'activation': 'tanh', 'alpha': 0.0001, 'batch_size': 'auto', 'beta_1': 0.9, 'beta_2': 0.999, 'epsilon': 1e-08, 'hidden_layer_sizes': (100,), 'learning_rate': 'constant', 'learning_rate_init': 0.001, 'max_iter': 3000, 'momentum': 0.9, 'n_iter_no_change': 10, 'power_t': 0.5, 'solver': 'adam', 'tol': 0.0001, 'validation_fraction': 0.1, 'warm_start': 'False'}\n",
      "0.916    | 0.044   | {'activation': 'tanh', 'alpha': 0.0001, 'batch_size': 'auto', 'beta_1': 0.9, 'beta_2': 0.999, 'epsilon': 1e-08, 'hidden_layer_sizes': (100,), 'learning_rate': 'constant', 'learning_rate_init': 0.001, 'max_iter': 3000, 'momentum': 0.9, 'n_iter_no_change': 10, 'power_t': 0.5, 'solver': 'lbfgs', 'tol': 0.0001, 'validation_fraction': 0.1, 'warm_start': 'False'}\n",
      "0.907    | 0.027   | {'activation': 'tanh', 'alpha': 0.0001, 'batch_size': 'auto', 'beta_1': 0.9, 'beta_2': 0.999, 'epsilon': 1e-08, 'hidden_layer_sizes': (100,), 'learning_rate': 'constant', 'learning_rate_init': 0.001, 'max_iter': 3000, 'momentum': 0.9, 'n_iter_no_change': 10, 'power_t': 0.5, 'solver': 'sgd', 'tol': 0.0001, 'validation_fraction': 0.1, 'warm_start': 'False'}\n",
      "0.938    | 0.018   | {'activation': 'tanh', 'alpha': 0.0001, 'batch_size': 'auto', 'beta_1': 0.9, 'beta_2': 0.999, 'epsilon': 1e-08, 'hidden_layer_sizes': (100,), 'learning_rate': 'adaptive', 'learning_rate_init': 0.001, 'max_iter': 3000, 'momentum': 0.9, 'n_iter_no_change': 10, 'power_t': 0.5, 'solver': 'adam', 'tol': 0.0001, 'validation_fraction': 0.1, 'warm_start': 'False'}\n",
      "0.916    | 0.017   | {'activation': 'tanh', 'alpha': 0.0001, 'batch_size': 'auto', 'beta_1': 0.9, 'beta_2': 0.999, 'epsilon': 1e-08, 'hidden_layer_sizes': (100,), 'learning_rate': 'adaptive', 'learning_rate_init': 0.001, 'max_iter': 3000, 'momentum': 0.9, 'n_iter_no_change': 10, 'power_t': 0.5, 'solver': 'lbfgs', 'tol': 0.0001, 'validation_fraction': 0.1, 'warm_start': 'False'}\n",
      "0.902    | 0.030   | {'activation': 'tanh', 'alpha': 0.0001, 'batch_size': 'auto', 'beta_1': 0.9, 'beta_2': 0.999, 'epsilon': 1e-08, 'hidden_layer_sizes': (100,), 'learning_rate': 'adaptive', 'learning_rate_init': 0.001, 'max_iter': 3000, 'momentum': 0.9, 'n_iter_no_change': 10, 'power_t': 0.5, 'solver': 'sgd', 'tol': 0.0001, 'validation_fraction': 0.1, 'warm_start': 'False'}\n",
      "0.933    | 0.020   | {'activation': 'tanh', 'alpha': 0.0001, 'batch_size': 'auto', 'beta_1': 0.9, 'beta_2': 0.999, 'epsilon': 1e-08, 'hidden_layer_sizes': (100,), 'learning_rate': 'invscaling', 'learning_rate_init': 0.001, 'max_iter': 3000, 'momentum': 0.9, 'n_iter_no_change': 10, 'power_t': 0.5, 'solver': 'adam', 'tol': 0.0001, 'validation_fraction': 0.1, 'warm_start': 'False'}\n",
      "0.924    | 0.025   | {'activation': 'tanh', 'alpha': 0.0001, 'batch_size': 'auto', 'beta_1': 0.9, 'beta_2': 0.999, 'epsilon': 1e-08, 'hidden_layer_sizes': (100,), 'learning_rate': 'invscaling', 'learning_rate_init': 0.001, 'max_iter': 3000, 'momentum': 0.9, 'n_iter_no_change': 10, 'power_t': 0.5, 'solver': 'lbfgs', 'tol': 0.0001, 'validation_fraction': 0.1, 'warm_start': 'False'}\n",
      "0.844    | 0.095   | {'activation': 'tanh', 'alpha': 0.0001, 'batch_size': 'auto', 'beta_1': 0.9, 'beta_2': 0.999, 'epsilon': 1e-08, 'hidden_layer_sizes': (100,), 'learning_rate': 'invscaling', 'learning_rate_init': 0.001, 'max_iter': 3000, 'momentum': 0.9, 'n_iter_no_change': 10, 'power_t': 0.5, 'solver': 'sgd', 'tol': 0.0001, 'validation_fraction': 0.1, 'warm_start': 'False'}\n"
     ]
    }
   ],
   "source": [
    "#Affichage des scores pour toutes les combinaisons (modèles) possibles \n",
    "means = clf.cv_results_['mean_test_score']\n",
    "stds = clf.cv_results_['std_test_score']\n",
    "\n",
    "i=0\n",
    "for mean, std, params in zip(means, stds, clf.cv_results_['params']):\n",
    "    i=i+1    \n",
    "print(\"Le nombre de combinaisons (modèles) possible est : %r \" % (i)) \n",
    "print(\" \\n \")\n",
    "print(\"|  Mean  |   Std   |  Combinaison / Modèle \")\n",
    "print(\"-------------------------------------------------------------------------------------------------------------------\")\n",
    "\n",
    "for mean, std, params in zip(means, stds, clf.cv_results_['params']):\n",
    "    print(\"%0.3f    | %0.03f   | %r\" % (mean, std, params))"
   ]
  },
  {
   "cell_type": "code",
   "execution_count": 104,
   "metadata": {},
   "outputs": [
    {
     "name": "stdout",
     "output_type": "stream",
     "text": [
      "Meilleurs paramètres trouvés : \n",
      " {'activation': 'logistic', 'alpha': 0.0001, 'batch_size': 'auto', 'beta_1': 0.9, 'beta_2': 0.999, 'epsilon': 1e-08, 'hidden_layer_sizes': (100,), 'learning_rate': 'constant', 'learning_rate_init': 0.001, 'max_iter': 3000, 'momentum': 0.9, 'n_iter_no_change': 10, 'power_t': 0.5, 'solver': 'lbfgs', 'tol': 0.0001, 'validation_fraction': 0.1, 'warm_start': 'False'}\n"
     ]
    }
   ],
   "source": [
    "#Affichage du meilleur modèle (hyperparamètres optimaux parmi les valeurs données).\n",
    "print('Meilleurs paramètres trouvés : \\n', clf.best_params_)"
   ]
  },
  {
   "cell_type": "code",
   "execution_count": 105,
   "metadata": {},
   "outputs": [
    {
     "name": "stdout",
     "output_type": "stream",
     "text": [
      " Matrice de confusion = \n",
      " [[42  0]\n",
      " [ 0 72]]\n",
      " Taux d'erreur = 0.0\n",
      " Exactitude (Accuracy)= 1.0\n",
      " précision = 1.0\n",
      " Rappel = 1.0\n",
      " La F meusure = 1.0\n"
     ]
    }
   ],
   "source": [
    "#Test du meilleur modèle sur l'ensemble de test.\n",
    "y_test, y_pred = y_test , clf.predict(X_test)\n",
    "\n",
    "#Métriques\n",
    "print(\" Matrice de confusion = \") \n",
    "print(\" \"+str(confusion_matrix(y_pred,y_test)))\n",
    "print(\" Taux d'erreur = \" +str(zero_one_loss(y_test, y_pred)))\n",
    "print(\" Exactitude (Accuracy)= \" +str(accuracy_score(y_test,y_pred)))\n",
    "print(\" précision = \" +str(precision_score(y_test, y_pred)))\n",
    "print(\" Rappel = \" +str(recall_score(y_test, y_pred)))\n",
    "print(\" La F meusure = \" +str( f1_score(y_test, y_pred)))\n",
    "\n",
    "#Evaluation avec classification_report (resultats précédents arrondus)\n",
    "#from sklearn.metrics import classification_report\n",
    "#print(\"Resultats sur l'ensemble de test:\")\n",
    "#print(classification_report(y_test, y_pred))\n"
   ]
  }
 ],
 "metadata": {
  "kernelspec": {
   "display_name": "Python 3",
   "language": "python",
   "name": "python3"
  },
  "language_info": {
   "codemirror_mode": {
    "name": "ipython",
    "version": 3
   },
   "file_extension": ".py",
   "mimetype": "text/x-python",
   "name": "python",
   "nbconvert_exporter": "python",
   "pygments_lexer": "ipython3",
   "version": "3.7.4"
  }
 },
 "nbformat": 4,
 "nbformat_minor": 2
}
