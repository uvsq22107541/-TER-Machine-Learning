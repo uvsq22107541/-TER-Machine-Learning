{
 "cells": [
  {
   "cell_type": "markdown",
   "metadata": {
    "id": "FtXN-zijc1DT"
   },
   "source": [
    "#### 1.Bibliothèques "
   ]
  },
  {
   "cell_type": "code",
   "execution_count": 6,
   "metadata": {
    "id": "x65WNIlIc1DZ"
   },
   "outputs": [],
   "source": [
    "import numpy as np\n",
    "import pandas as pd\n",
    "from sklearn.neural_network import MLPRegressor\n",
    "from sklearn.model_selection import train_test_split\n",
    "from sklearn.model_selection import train_test_split\n",
    "from sklearn.impute import SimpleImputer\n",
    "from sklearn import preprocessing\n",
    "from sklearn.metrics import mean_squared_error, r2_score"
   ]
  },
  {
   "cell_type": "markdown",
   "metadata": {
    "id": "19-D187dc1Db"
   },
   "source": [
    "#### 2. Chargement des données des attributs pertinents (4 sur 7 attributs seulement age, bmi, childre, charges) depuis le fichier 'insurance.csv' \n",
    "#### D'aprés l'analyse du dataset de régression (étape 4)"
   ]
  },
  {
   "cell_type": "code",
   "execution_count": 7,
   "metadata": {
    "colab": {
     "base_uri": "https://localhost:8080/"
    },
    "id": "12_0LU8kc1Dc",
    "outputId": "4e7ceebe-1aae-48ae-d86f-8002cdfaf5fa"
   },
   "outputs": [
    {
     "name": "stdout",
     "output_type": "stream",
     "text": [
      "(1338, 4)\n",
      "Index(['age', 'bmi', 'children', 'charges'], dtype='object')\n"
     ]
    }
   ],
   "source": [
    "data = pd.read_csv('insurance.csv')\n",
    "data.columns\n",
    "data = data[['age','bmi', 'children', 'charges']]\n",
    "print (data.shape)\n",
    "print (data.columns)"
   ]
  },
  {
   "cell_type": "markdown",
   "metadata": {
    "id": "5Vb6pl8ac1Dd"
   },
   "source": [
    "#### 3.  Correction de données manquantes : exemple de complétion de ces valeurs par la moyenne de la colonne\n",
    "PS : Nous n'avons pas de valeurs manquantes donc ce bout de code ne va pas influencer notre code ou données  "
   ]
  },
  {
   "cell_type": "code",
   "execution_count": 8,
   "metadata": {
    "id": "ppocQ9AZc1De"
   },
   "outputs": [],
   "source": [
    "imp = SimpleImputer(missing_values=np.nan, strategy='mean')\n",
    "imp.fit(data)\n",
    "data=imp.transform(data)"
   ]
  },
  {
   "cell_type": "markdown",
   "metadata": {
    "id": "IhrWFEPkc1De"
   },
   "source": [
    "#### 4. Séprataion des attributs (Inputs) et de l'attribut objectif (Output)"
   ]
  },
  {
   "cell_type": "code",
   "execution_count": 9,
   "metadata": {
    "id": "MCSFHcz6c1Dg"
   },
   "outputs": [],
   "source": [
    "NB_FEATURES=3\n",
    "X=data[:,0:NB_FEATURES]         # Features: inputs (21 premières colonnes)\n",
    "y=data[:,NB_FEATURES:].ravel()  # Target : output/ (Dernière colonne)"
   ]
  },
  {
   "cell_type": "markdown",
   "metadata": {
    "id": "tCcj_disc1Dg"
   },
   "source": [
    "#### 5. Découpage de l'ensemble de données : 80% TRAINING, 20% TEST"
   ]
  },
  {
   "cell_type": "code",
   "execution_count": 10,
   "metadata": {
    "id": "rQ8n2eknc1Dh"
   },
   "outputs": [],
   "source": [
    "TEST_SIZE = 0.20\n",
    "X_train, X_test, y_train, y_test = train_test_split(X, y, test_size=TEST_SIZE,shuffle=True)"
   ]
  },
  {
   "cell_type": "markdown",
   "metadata": {
    "id": "hBBlbfZOc1Di"
   },
   "source": [
    "#### 6. Affihage des quelques informations concernant notre dataset "
   ]
  },
  {
   "cell_type": "code",
   "execution_count": 11,
   "metadata": {
    "colab": {
     "base_uri": "https://localhost:8080/"
    },
    "id": "KFvo8qo8c1Di",
    "outputId": "62caa404-b978-4090-f9db-f011f1819a08"
   },
   "outputs": [
    {
     "name": "stdout",
     "output_type": "stream",
     "text": [
      " >>> Taille du dataset / nombre d'instances :\t 1338 \n",
      " >>> Nombre d'attributs / Inputs : \t\t 3 \n",
      " >>> Taille du dataset d'entrainement : \t 1070\n",
      " >>> Taille du dataset de test : \t\t 268\n"
     ]
    }
   ],
   "source": [
    "print(f\" >>> Taille du dataset / nombre d'instances :\\t {data.shape[0]} \")\n",
    "print(f\" >>> Nombre d'attributs / Inputs : \\t\\t {NB_FEATURES} \")\n",
    "print(f\" >>> Taille du dataset d'entrainement : \\t {X_train.shape[0]}\")\n",
    "print(f\" >>> Taille du dataset de test : \\t\\t {X_test.shape[0]}\")"
   ]
  },
  {
   "cell_type": "markdown",
   "metadata": {
    "id": "5Ibh43goc1Dj"
   },
   "source": [
    "#### 7. Normalisation des données"
   ]
  },
  {
   "cell_type": "code",
   "execution_count": 12,
   "metadata": {
    "id": "CDDVzzvIc1Dj"
   },
   "outputs": [],
   "source": [
    "scaler=preprocessing.StandardScaler().fit(X_train)\n",
    "X_train=scaler.transform(X_train)\n",
    "X_test=scaler.transform(X_test)"
   ]
  },
  {
   "cell_type": "markdown",
   "metadata": {
    "id": "0kzN2LAKc1Dj"
   },
   "source": [
    "# Etape 2 : Paramètres Par Défaut\n",
    "#### 8. Création d'un modèle de regression avec les paramètres par défaut de ScikitLearn + apprentissage du modèle"
   ]
  },
  {
   "cell_type": "code",
   "execution_count": 13,
   "metadata": {
    "colab": {
     "base_uri": "https://localhost:8080/"
    },
    "id": "_usg_FhCc1Dk",
    "outputId": "26b57075-0a7e-4f17-8d66-6917072da9bc"
   },
   "outputs": [
    {
     "name": "stderr",
     "output_type": "stream",
     "text": [
      "/usr/local/lib/python3.7/dist-packages/sklearn/neural_network/_multilayer_perceptron.py:696: ConvergenceWarning: Stochastic Optimizer: Maximum iterations (200) reached and the optimization hasn't converged yet.\n",
      "  ConvergenceWarning,\n"
     ]
    }
   ],
   "source": [
    "mlp =MLPRegressor(hidden_layer_sizes=(100,), activation='relu',  solver='adam',\n",
    "                   alpha=0.0001, batch_size='auto', learning_rate='constant', learning_rate_init=0.001,\n",
    "                   power_t=0.5, max_iter=200, shuffle=True, random_state=None, tol=0.0001, verbose=False,\n",
    "                   warm_start=False, momentum=0.9, nesterovs_momentum=True, early_stopping=False,\n",
    "                   validation_fraction=0.1, beta_1=0.9, beta_2=0.999, epsilon=1e-08, n_iter_no_change=10, \n",
    "                   )\n",
    "\n",
    "mlp.fit(X_train,y_train)\n",
    "y_pred=mlp.predict(X_test)"
   ]
  },
  {
   "cell_type": "markdown",
   "metadata": {
    "id": "pi3KYx-Sc1Dk"
   },
   "source": [
    "#### 9. Métrique de régréssion"
   ]
  },
  {
   "cell_type": "code",
   "execution_count": 14,
   "metadata": {
    "colab": {
     "base_uri": "https://localhost:8080/"
    },
    "id": "s5abwDg8c1Dl",
    "outputId": "25ecf3be-c849-4619-aa75-b2c5cd9e0cc3"
   },
   "outputs": [
    {
     "name": "stdout",
     "output_type": "stream",
     "text": [
      " Score final -1.10\n"
     ]
    }
   ],
   "source": [
    "print(\" Score final %.2f\" % r2_score(y_test, y_pred))"
   ]
  },
  {
   "cell_type": "markdown",
   "metadata": {
    "id": "7PcDP424c1Dl"
   },
   "source": [
    "# Etape 3 : Paramètres Optimaux (Meilleur Modèle - GridSearchCV)"
   ]
  },
  {
   "cell_type": "markdown",
   "metadata": {
    "id": "SdOW70ohc1Dl"
   },
   "source": [
    "#### 10. Utilisation de la méthode GridSearchCV qui trouve facilement les valeurs optimales parmi les valeurs données pour les paramètres pertinents (activation, solver, learning_rate, max_iter)"
   ]
  },
  {
   "cell_type": "code",
   "execution_count": 15,
   "metadata": {
    "colab": {
     "base_uri": "https://localhost:8080/"
    },
    "id": "zsAyjnC8c1Dm",
    "outputId": "674f51af-e795-4af8-9248-5741f45c4e48"
   },
   "outputs": [
    {
     "name": "stdout",
     "output_type": "stream",
     "text": [
      "Le nombre de combinaisons (modèles) possible est : 108 \n",
      " \n",
      " \n",
      "|  Mean  |   Std   |  Combinaison / Modèle \n",
      "-------------------------------------------------------------------------------------------------------------------\n",
      "0.055    | 0.038   | {'activation': 'relu', 'learning_rate': 'constant', 'max_iter': 200, 'solver': 'adam'}\n",
      "0.108    | 0.037   | {'activation': 'relu', 'learning_rate': 'constant', 'max_iter': 200, 'solver': 'lbfgs'}\n",
      "-154286905.709    | 439996617.229   | {'activation': 'relu', 'learning_rate': 'constant', 'max_iter': 200, 'solver': 'sgd'}\n",
      "0.102    | 0.032   | {'activation': 'relu', 'learning_rate': 'constant', 'max_iter': 2000, 'solver': 'adam'}\n",
      "0.098    | 0.041   | {'activation': 'relu', 'learning_rate': 'constant', 'max_iter': 2000, 'solver': 'lbfgs'}\n",
      "-1920786519.841    | 5743449428.392   | {'activation': 'relu', 'learning_rate': 'constant', 'max_iter': 2000, 'solver': 'sgd'}\n",
      "0.103    | 0.033   | {'activation': 'relu', 'learning_rate': 'constant', 'max_iter': 3000, 'solver': 'adam'}\n",
      "0.105    | 0.037   | {'activation': 'relu', 'learning_rate': 'constant', 'max_iter': 3000, 'solver': 'lbfgs'}\n",
      "-849263343.953    | 1719373056.610   | {'activation': 'relu', 'learning_rate': 'constant', 'max_iter': 3000, 'solver': 'sgd'}\n",
      "0.049    | 0.038   | {'activation': 'relu', 'learning_rate': 'adaptive', 'max_iter': 200, 'solver': 'adam'}\n",
      "0.105    | 0.034   | {'activation': 'relu', 'learning_rate': 'adaptive', 'max_iter': 200, 'solver': 'lbfgs'}\n",
      "-55403329.298    | 123550233.426   | {'activation': 'relu', 'learning_rate': 'adaptive', 'max_iter': 200, 'solver': 'sgd'}\n",
      "0.103    | 0.032   | {'activation': 'relu', 'learning_rate': 'adaptive', 'max_iter': 2000, 'solver': 'adam'}\n",
      "0.082    | 0.070   | {'activation': 'relu', 'learning_rate': 'adaptive', 'max_iter': 2000, 'solver': 'lbfgs'}\n",
      "-97764383.073    | 283420229.766   | {'activation': 'relu', 'learning_rate': 'adaptive', 'max_iter': 2000, 'solver': 'sgd'}\n",
      "0.102    | 0.032   | {'activation': 'relu', 'learning_rate': 'adaptive', 'max_iter': 3000, 'solver': 'adam'}\n",
      "0.101    | 0.037   | {'activation': 'relu', 'learning_rate': 'adaptive', 'max_iter': 3000, 'solver': 'lbfgs'}\n",
      "-44798108.601    | 81463418.633   | {'activation': 'relu', 'learning_rate': 'adaptive', 'max_iter': 3000, 'solver': 'sgd'}\n",
      "0.051    | 0.029   | {'activation': 'relu', 'learning_rate': 'invscaling', 'max_iter': 200, 'solver': 'adam'}\n",
      "0.107    | 0.040   | {'activation': 'relu', 'learning_rate': 'invscaling', 'max_iter': 200, 'solver': 'lbfgs'}\n",
      "-171670070.356    | 447672828.953   | {'activation': 'relu', 'learning_rate': 'invscaling', 'max_iter': 200, 'solver': 'sgd'}\n",
      "0.103    | 0.032   | {'activation': 'relu', 'learning_rate': 'invscaling', 'max_iter': 2000, 'solver': 'adam'}\n",
      "0.105    | 0.038   | {'activation': 'relu', 'learning_rate': 'invscaling', 'max_iter': 2000, 'solver': 'lbfgs'}\n",
      "-2037563366.335    | 3517883779.339   | {'activation': 'relu', 'learning_rate': 'invscaling', 'max_iter': 2000, 'solver': 'sgd'}\n",
      "0.102    | 0.032   | {'activation': 'relu', 'learning_rate': 'invscaling', 'max_iter': 3000, 'solver': 'adam'}\n",
      "0.068    | 0.111   | {'activation': 'relu', 'learning_rate': 'invscaling', 'max_iter': 3000, 'solver': 'lbfgs'}\n",
      "-318909937.466    | 956676269.487   | {'activation': 'relu', 'learning_rate': 'invscaling', 'max_iter': 3000, 'solver': 'sgd'}\n",
      "0.102    | 0.031   | {'activation': 'identity', 'learning_rate': 'constant', 'max_iter': 200, 'solver': 'adam'}\n",
      "0.111    | 0.041   | {'activation': 'identity', 'learning_rate': 'constant', 'max_iter': 200, 'solver': 'lbfgs'}\n",
      "nan    | nan   | {'activation': 'identity', 'learning_rate': 'constant', 'max_iter': 200, 'solver': 'sgd'}\n",
      "0.103    | 0.032   | {'activation': 'identity', 'learning_rate': 'constant', 'max_iter': 2000, 'solver': 'adam'}\n",
      "0.111    | 0.041   | {'activation': 'identity', 'learning_rate': 'constant', 'max_iter': 2000, 'solver': 'lbfgs'}\n",
      "nan    | nan   | {'activation': 'identity', 'learning_rate': 'constant', 'max_iter': 2000, 'solver': 'sgd'}\n",
      "0.103    | 0.032   | {'activation': 'identity', 'learning_rate': 'constant', 'max_iter': 3000, 'solver': 'adam'}\n",
      "0.111    | 0.041   | {'activation': 'identity', 'learning_rate': 'constant', 'max_iter': 3000, 'solver': 'lbfgs'}\n",
      "nan    | nan   | {'activation': 'identity', 'learning_rate': 'constant', 'max_iter': 3000, 'solver': 'sgd'}\n",
      "0.103    | 0.032   | {'activation': 'identity', 'learning_rate': 'adaptive', 'max_iter': 200, 'solver': 'adam'}\n",
      "0.111    | 0.041   | {'activation': 'identity', 'learning_rate': 'adaptive', 'max_iter': 200, 'solver': 'lbfgs'}\n",
      "nan    | nan   | {'activation': 'identity', 'learning_rate': 'adaptive', 'max_iter': 200, 'solver': 'sgd'}\n",
      "0.102    | 0.032   | {'activation': 'identity', 'learning_rate': 'adaptive', 'max_iter': 2000, 'solver': 'adam'}\n",
      "0.111    | 0.041   | {'activation': 'identity', 'learning_rate': 'adaptive', 'max_iter': 2000, 'solver': 'lbfgs'}\n",
      "nan    | nan   | {'activation': 'identity', 'learning_rate': 'adaptive', 'max_iter': 2000, 'solver': 'sgd'}\n",
      "0.102    | 0.032   | {'activation': 'identity', 'learning_rate': 'adaptive', 'max_iter': 3000, 'solver': 'adam'}\n",
      "0.111    | 0.041   | {'activation': 'identity', 'learning_rate': 'adaptive', 'max_iter': 3000, 'solver': 'lbfgs'}\n",
      "nan    | nan   | {'activation': 'identity', 'learning_rate': 'adaptive', 'max_iter': 3000, 'solver': 'sgd'}\n",
      "0.102    | 0.032   | {'activation': 'identity', 'learning_rate': 'invscaling', 'max_iter': 200, 'solver': 'adam'}\n",
      "0.111    | 0.041   | {'activation': 'identity', 'learning_rate': 'invscaling', 'max_iter': 200, 'solver': 'lbfgs'}\n",
      "nan    | nan   | {'activation': 'identity', 'learning_rate': 'invscaling', 'max_iter': 200, 'solver': 'sgd'}\n",
      "0.102    | 0.032   | {'activation': 'identity', 'learning_rate': 'invscaling', 'max_iter': 2000, 'solver': 'adam'}\n",
      "0.111    | 0.041   | {'activation': 'identity', 'learning_rate': 'invscaling', 'max_iter': 2000, 'solver': 'lbfgs'}\n",
      "nan    | nan   | {'activation': 'identity', 'learning_rate': 'invscaling', 'max_iter': 2000, 'solver': 'sgd'}\n",
      "0.103    | 0.032   | {'activation': 'identity', 'learning_rate': 'invscaling', 'max_iter': 3000, 'solver': 'adam'}\n",
      "0.111    | 0.041   | {'activation': 'identity', 'learning_rate': 'invscaling', 'max_iter': 3000, 'solver': 'lbfgs'}\n",
      "nan    | nan   | {'activation': 'identity', 'learning_rate': 'invscaling', 'max_iter': 3000, 'solver': 'sgd'}\n",
      "-1.192    | 0.102   | {'activation': 'logistic', 'learning_rate': 'constant', 'max_iter': 200, 'solver': 'adam'}\n",
      "0.016    | 0.028   | {'activation': 'logistic', 'learning_rate': 'constant', 'max_iter': 200, 'solver': 'lbfgs'}\n",
      "-0.016    | 0.036   | {'activation': 'logistic', 'learning_rate': 'constant', 'max_iter': 200, 'solver': 'sgd'}\n",
      "-0.978    | 0.086   | {'activation': 'logistic', 'learning_rate': 'constant', 'max_iter': 2000, 'solver': 'adam'}\n",
      "0.007    | 0.023   | {'activation': 'logistic', 'learning_rate': 'constant', 'max_iter': 2000, 'solver': 'lbfgs'}\n",
      "-0.010    | 0.007   | {'activation': 'logistic', 'learning_rate': 'constant', 'max_iter': 2000, 'solver': 'sgd'}\n",
      "-0.869    | 0.079   | {'activation': 'logistic', 'learning_rate': 'constant', 'max_iter': 3000, 'solver': 'adam'}\n",
      "0.026    | 0.038   | {'activation': 'logistic', 'learning_rate': 'constant', 'max_iter': 3000, 'solver': 'lbfgs'}\n",
      "-0.009    | 0.006   | {'activation': 'logistic', 'learning_rate': 'constant', 'max_iter': 3000, 'solver': 'sgd'}\n",
      "-1.192    | 0.103   | {'activation': 'logistic', 'learning_rate': 'adaptive', 'max_iter': 200, 'solver': 'adam'}\n",
      "0.020    | 0.035   | {'activation': 'logistic', 'learning_rate': 'adaptive', 'max_iter': 200, 'solver': 'lbfgs'}\n",
      "-0.004    | 0.005   | {'activation': 'logistic', 'learning_rate': 'adaptive', 'max_iter': 200, 'solver': 'sgd'}\n",
      "-0.978    | 0.087   | {'activation': 'logistic', 'learning_rate': 'adaptive', 'max_iter': 2000, 'solver': 'adam'}\n",
      "0.020    | 0.035   | {'activation': 'logistic', 'learning_rate': 'adaptive', 'max_iter': 2000, 'solver': 'lbfgs'}\n",
      "-0.005    | 0.005   | {'activation': 'logistic', 'learning_rate': 'adaptive', 'max_iter': 2000, 'solver': 'sgd'}\n",
      "-0.868    | 0.078   | {'activation': 'logistic', 'learning_rate': 'adaptive', 'max_iter': 3000, 'solver': 'adam'}\n",
      "0.016    | 0.036   | {'activation': 'logistic', 'learning_rate': 'adaptive', 'max_iter': 3000, 'solver': 'lbfgs'}\n",
      "-0.005    | 0.006   | {'activation': 'logistic', 'learning_rate': 'adaptive', 'max_iter': 3000, 'solver': 'sgd'}\n",
      "-1.192    | 0.102   | {'activation': 'logistic', 'learning_rate': 'invscaling', 'max_iter': 200, 'solver': 'adam'}\n",
      "0.023    | 0.046   | {'activation': 'logistic', 'learning_rate': 'invscaling', 'max_iter': 200, 'solver': 'lbfgs'}\n",
      "-0.635    | 0.350   | {'activation': 'logistic', 'learning_rate': 'invscaling', 'max_iter': 200, 'solver': 'sgd'}\n",
      "-0.977    | 0.086   | {'activation': 'logistic', 'learning_rate': 'invscaling', 'max_iter': 2000, 'solver': 'adam'}\n",
      "0.020    | 0.049   | {'activation': 'logistic', 'learning_rate': 'invscaling', 'max_iter': 2000, 'solver': 'lbfgs'}\n",
      "-0.645    | 0.299   | {'activation': 'logistic', 'learning_rate': 'invscaling', 'max_iter': 2000, 'solver': 'sgd'}\n",
      "-0.868    | 0.078   | {'activation': 'logistic', 'learning_rate': 'invscaling', 'max_iter': 3000, 'solver': 'adam'}\n",
      "0.023    | 0.044   | {'activation': 'logistic', 'learning_rate': 'invscaling', 'max_iter': 3000, 'solver': 'lbfgs'}\n",
      "-0.656    | 0.241   | {'activation': 'logistic', 'learning_rate': 'invscaling', 'max_iter': 3000, 'solver': 'sgd'}\n",
      "-1.189    | 0.102   | {'activation': 'tanh', 'learning_rate': 'constant', 'max_iter': 200, 'solver': 'adam'}\n",
      "0.051    | 0.035   | {'activation': 'tanh', 'learning_rate': 'constant', 'max_iter': 200, 'solver': 'lbfgs'}\n",
      "-0.007    | 0.018   | {'activation': 'tanh', 'learning_rate': 'constant', 'max_iter': 200, 'solver': 'sgd'}\n",
      "-0.974    | 0.086   | {'activation': 'tanh', 'learning_rate': 'constant', 'max_iter': 2000, 'solver': 'adam'}\n",
      "0.079    | 0.043   | {'activation': 'tanh', 'learning_rate': 'constant', 'max_iter': 2000, 'solver': 'lbfgs'}\n",
      "-0.037    | 0.065   | {'activation': 'tanh', 'learning_rate': 'constant', 'max_iter': 2000, 'solver': 'sgd'}\n",
      "-0.865    | 0.078   | {'activation': 'tanh', 'learning_rate': 'constant', 'max_iter': 3000, 'solver': 'adam'}\n",
      "0.093    | 0.039   | {'activation': 'tanh', 'learning_rate': 'constant', 'max_iter': 3000, 'solver': 'lbfgs'}\n",
      "-0.016    | 0.011   | {'activation': 'tanh', 'learning_rate': 'constant', 'max_iter': 3000, 'solver': 'sgd'}\n",
      "-1.189    | 0.102   | {'activation': 'tanh', 'learning_rate': 'adaptive', 'max_iter': 200, 'solver': 'adam'}\n",
      "0.051    | 0.038   | {'activation': 'tanh', 'learning_rate': 'adaptive', 'max_iter': 200, 'solver': 'lbfgs'}\n",
      "-0.001    | 0.011   | {'activation': 'tanh', 'learning_rate': 'adaptive', 'max_iter': 200, 'solver': 'sgd'}\n",
      "-0.975    | 0.086   | {'activation': 'tanh', 'learning_rate': 'adaptive', 'max_iter': 2000, 'solver': 'adam'}\n",
      "0.087    | 0.034   | {'activation': 'tanh', 'learning_rate': 'adaptive', 'max_iter': 2000, 'solver': 'lbfgs'}\n",
      "-0.003    | 0.008   | {'activation': 'tanh', 'learning_rate': 'adaptive', 'max_iter': 2000, 'solver': 'sgd'}\n",
      "-0.865    | 0.078   | {'activation': 'tanh', 'learning_rate': 'adaptive', 'max_iter': 3000, 'solver': 'adam'}\n",
      "0.076    | 0.042   | {'activation': 'tanh', 'learning_rate': 'adaptive', 'max_iter': 3000, 'solver': 'lbfgs'}\n",
      "-0.003    | 0.003   | {'activation': 'tanh', 'learning_rate': 'adaptive', 'max_iter': 3000, 'solver': 'sgd'}\n",
      "-1.189    | 0.102   | {'activation': 'tanh', 'learning_rate': 'invscaling', 'max_iter': 200, 'solver': 'adam'}\n",
      "0.046    | 0.043   | {'activation': 'tanh', 'learning_rate': 'invscaling', 'max_iter': 200, 'solver': 'lbfgs'}\n",
      "-0.019    | 0.029   | {'activation': 'tanh', 'learning_rate': 'invscaling', 'max_iter': 200, 'solver': 'sgd'}\n",
      "-0.975    | 0.086   | {'activation': 'tanh', 'learning_rate': 'invscaling', 'max_iter': 2000, 'solver': 'adam'}\n",
      "0.097    | 0.029   | {'activation': 'tanh', 'learning_rate': 'invscaling', 'max_iter': 2000, 'solver': 'lbfgs'}\n",
      "-0.067    | 0.152   | {'activation': 'tanh', 'learning_rate': 'invscaling', 'max_iter': 2000, 'solver': 'sgd'}\n",
      "-0.865    | 0.078   | {'activation': 'tanh', 'learning_rate': 'invscaling', 'max_iter': 3000, 'solver': 'adam'}\n",
      "0.095    | 0.037   | {'activation': 'tanh', 'learning_rate': 'invscaling', 'max_iter': 3000, 'solver': 'lbfgs'}\n",
      "-0.017    | 0.028   | {'activation': 'tanh', 'learning_rate': 'invscaling', 'max_iter': 3000, 'solver': 'sgd'}\n"
     ]
    },
    {
     "name": "stderr",
     "output_type": "stream",
     "text": [
      "/usr/local/lib/python3.7/dist-packages/sklearn/model_selection/_search.py:972: UserWarning: One or more of the test scores are non-finite: [ 5.54065168e-02  1.08113649e-01 -1.54286906e+08  1.02271044e-01\n",
      "  9.83635539e-02 -1.92078652e+09  1.02800934e-01  1.05118747e-01\n",
      " -8.49263344e+08  4.94732863e-02  1.04526464e-01 -5.54033293e+07\n",
      "  1.03242647e-01  8.20210510e-02 -9.77643831e+07  1.02279121e-01\n",
      "  1.00998543e-01 -4.47981086e+07  5.06230938e-02  1.07402022e-01\n",
      " -1.71670070e+08  1.02957199e-01  1.05009541e-01 -2.03756337e+09\n",
      "  1.01901736e-01  6.83751151e-02 -3.18909937e+08  1.02085578e-01\n",
      "  1.11310112e-01             nan  1.03305675e-01  1.11310399e-01\n",
      "             nan  1.03447778e-01  1.11310057e-01             nan\n",
      "  1.02783820e-01  1.11310155e-01             nan  1.02415056e-01\n",
      "  1.11309645e-01             nan  1.02218817e-01  1.11310736e-01\n",
      "             nan  1.01928115e-01  1.11309457e-01             nan\n",
      "  1.01979411e-01  1.11310055e-01             nan  1.02947635e-01\n",
      "  1.11309960e-01             nan -1.19189809e+00  1.61482669e-02\n",
      " -1.61233467e-02 -9.78114744e-01  6.78904205e-03 -9.59139794e-03\n",
      " -8.68760154e-01  2.55244592e-02 -8.74084403e-03 -1.19178054e+00\n",
      "  2.02131771e-02 -4.17589120e-03 -9.77650973e-01  1.95332690e-02\n",
      " -4.69907758e-03 -8.67655463e-01  1.59363881e-02 -5.02595539e-03\n",
      " -1.19167054e+00  2.25443357e-02 -6.35432390e-01 -9.77142397e-01\n",
      "  2.03974356e-02 -6.44626977e-01 -8.68404895e-01  2.30604581e-02\n",
      " -6.55745866e-01 -1.18932882e+00  5.12601055e-02 -6.73436526e-03\n",
      " -9.74486820e-01  7.94382047e-02 -3.72779818e-02 -8.64812336e-01\n",
      "  9.33813259e-02 -1.57948664e-02 -1.18942981e+00  5.09274673e-02\n",
      " -1.45187139e-03 -9.74588785e-01  8.66500067e-02 -2.81170605e-03\n",
      " -8.64785652e-01  7.60489709e-02 -3.28301960e-03 -1.18944111e+00\n",
      "  4.56025022e-02 -1.94955325e-02 -9.74612400e-01  9.73816685e-02\n",
      " -6.73179425e-02 -8.64780784e-01  9.47859491e-02 -1.72748834e-02]\n",
      "  category=UserWarning,\n"
     ]
    }
   ],
   "source": [
    "from sklearn.model_selection import GridSearchCV\n",
    "\n",
    "mlp_gs = MLPRegressor(max_iter=3000)\n",
    "parameter_space = {\n",
    "    'activation': ['relu', 'identity', 'logistic', 'tanh'],\n",
    "    'solver': ['adam', 'lbfgs', 'sgd'],\n",
    "    'learning_rate': ['constant','adaptive', 'invscaling'],\n",
    "    'max_iter': [200, 2000, 3000],\n",
    "}\n",
    "\n",
    "#n_jobs=-1 , -1 sert à utiliser tous les cœurs de processeur disponibles.\n",
    "#cv = 10 est pour la validation croisée, ici cela signifie 10 fois la validation croisée stratifiée (K-fold)\n",
    "clf = GridSearchCV(mlp_gs, parameter_space, n_jobs=-1, cv=10)\n",
    "\n",
    "#Apprentissage / Entrainement de modèle\n",
    "clf.fit(X, y)\n",
    "\n",
    "#Affichage des scores pour toutes les combinaisons (modèles) possibles \n",
    "means = clf.cv_results_['mean_test_score']\n",
    "stds = clf.cv_results_['std_test_score']\n",
    "\n",
    "i=0\n",
    "for mean, std, params in zip(means, stds, clf.cv_results_['params']):\n",
    "    i=i+1    \n",
    "print(\"Le nombre de combinaisons (modèles) possible est : %r \" % (i)) \n",
    "print(\" \\n \")\n",
    "print(\"|  Mean  |   Std   |  Combinaison / Modèle \")\n",
    "print(\"-------------------------------------------------------------------------------------------------------------------\")\n",
    "\n",
    "for mean, std, params in zip(means, stds, clf.cv_results_['params']):\n",
    "    print(\"%0.3f    | %0.03f   | %r\" % (mean, std, params))"
   ]
  },
  {
   "cell_type": "markdown",
   "metadata": {
    "id": "JjlayxHmc1Dm"
   },
   "source": [
    "#### 11. Affichage du meilleur modèle (hyperparamètres optimaux parmi les valeurs données). "
   ]
  },
  {
   "cell_type": "code",
   "execution_count": 16,
   "metadata": {
    "colab": {
     "base_uri": "https://localhost:8080/"
    },
    "id": "7ykoM-HIc1Dm",
    "outputId": "cc72ff66-9f59-4cf1-ea3f-3365e07a09ce"
   },
   "outputs": [
    {
     "name": "stdout",
     "output_type": "stream",
     "text": [
      "Meilleurs paramètres trouvés : \n",
      " {'activation': 'identity', 'learning_rate': 'adaptive', 'max_iter': 3000, 'solver': 'lbfgs'}\n",
      "Meilleurs paramètres trouvés : \n",
      " MLPRegressor(activation='identity', learning_rate='adaptive', max_iter=3000,\n",
      "             solver='lbfgs')\n"
     ]
    }
   ],
   "source": [
    "print('Meilleurs paramètres trouvés : \\n', clf.best_params_)\n",
    "print('Meilleurs paramètres trouvés : \\n', clf.best_estimator_)"
   ]
  },
  {
   "cell_type": "markdown",
   "metadata": {
    "id": "UGWVwAmcc1Dn"
   },
   "source": [
    "#### 12. Métrique de régression (sur le meilleur modèle obtenu)"
   ]
  },
  {
   "cell_type": "code",
   "execution_count": 19,
   "metadata": {
    "colab": {
     "base_uri": "https://localhost:8080/"
    },
    "id": "8EF6Mg5Kc1Dn",
    "outputId": "344f821b-ad02-4735-a1e5-24653f319a04"
   },
   "outputs": [
    {
     "name": "stdout",
     "output_type": "stream",
     "text": [
      "Score final :  0.12\n"
     ]
    }
   ],
   "source": [
    "print (\"Score final : \", round(clf.score(X, y),2))"
   ]
  }
 ],
 "metadata": {
  "accelerator": "TPU",
  "colab": {
   "collapsed_sections": [],
   "name": "Regression_Etape5_CombinaisonEtape2&3____.ipynb",
   "provenance": []
  },
  "kernelspec": {
   "display_name": "Python 3",
   "language": "python",
   "name": "python3"
  },
  "language_info": {
   "codemirror_mode": {
    "name": "ipython",
    "version": 3
   },
   "file_extension": ".py",
   "mimetype": "text/x-python",
   "name": "python",
   "nbconvert_exporter": "python",
   "pygments_lexer": "ipython3",
   "version": "3.7.4"
  }
 },
 "nbformat": 4,
 "nbformat_minor": 1
}
